{
  "cells": [
    {
      "cell_type": "markdown",
      "id": "13c925b5",
      "metadata": {
        "id": "13c925b5"
      },
      "source": [
        "## Article summarization and Word Cloud creation"
      ]
    },
    {
      "cell_type": "markdown",
      "id": "605ffc3f",
      "metadata": {
        "id": "605ffc3f"
      },
      "source": [
        "First, the necessary libraries need to be installed and imported. <br>\n",
        "**numpy** : To work with Arrays and mathematical operations in the domain of Linear Algebra etc. <br>\n",
        "**spacy** : Popular library in Natural Language Processing <br>\n",
        "**re** : Important library for regular expressions <br>\n",
        "**matplotlib** : To create visualizations <br>\n",
        "**wordcloud** : To create Word Clouds from text <br>\n",
        "**torch** : To implement machine learning algorithms <br>\n",
        "\n",
        "**Regular Expression** : A regular expression is a sequence of characters that specifies a search pattern in text. e.g. to find out zero or one occurrences of the preceding element, **?** is used, such as: colou**?**r matches both \"color\" and \"colour\"."
      ]
    },
    {
      "cell_type": "code",
      "execution_count": null,
      "id": "0a13b2e4",
      "metadata": {
        "id": "0a13b2e4"
      },
      "outputs": [],
      "source": [
        "try:\n",
        "    import numpy as np\n",
        "except ImportError:\n",
        "    !pip install numpy\n",
        "    import numpy as np\n",
        "try:\n",
        "    import re\n",
        "except ImportError:\n",
        "    !pip install regex\n",
        "    import re\n",
        "try:\n",
        "    from wordcloud import WordCloud, STOPWORDS\n",
        "except ImportError:\n",
        "    !pip install wordcloud\n",
        "    from wordcloud import WordCloud, STOPWORDS\n",
        "try:\n",
        "    import matplotlib.pyplot as plt\n",
        "except ImportError:\n",
        "    !pip install matplotlib\n",
        "    import matplotlib.pyplot as plt\n",
        "try:\n",
        "    import spacy\n",
        "except ImportError:\n",
        "    !pip install spacy\n",
        "    import spacy\n",
        "try:\n",
        "    nlp = spacy.load(\"en_core_web_sm\")\n",
        "except:\n",
        "    !python -m spacy download en_core_web_sm\n",
        "    nlp = spacy.load(\"en_core_web_sm\")\n",
        "try:\n",
        "    import torch\n",
        "    import torch.nn as nn\n",
        "    import torch.optim as optim\n",
        "    from torch.utils.data import DataLoader, Dataset\n",
        "except ImportError:\n",
        "    !pip install torch\n",
        "    import torch\n",
        "    import torch.nn as nn\n",
        "    import torch.optim as optim\n",
        "    from torch.utils.data import DataLoader, Dataset"
      ]
    },
    {
      "cell_type": "markdown",
      "id": "817ff666",
      "metadata": {
        "id": "817ff666"
      },
      "source": [
        "### Preprocessing of data"
      ]
    },
    {
      "cell_type": "markdown",
      "id": "ba93cbee",
      "metadata": {
        "id": "ba93cbee"
      },
      "source": [
        "Important functions/ subprograms are defined to use repeatedly whenever required."
      ]
    },
    {
      "cell_type": "code",
      "execution_count": null,
      "id": "46fcff5b",
      "metadata": {
        "id": "46fcff5b"
      },
      "outputs": [],
      "source": [
        "# to convert all the words to lower case\n",
        "def casefolding(sentence):\n",
        "    return sentence.lower()\n",
        "\n",
        "# to remove the punctuation and numbers, so that only alphabets remain\n",
        "def cleaning(sentence):\n",
        "    return re.sub(r'[^a-z1-9]', ' ', re.sub(\"’\", '', sentence))\n",
        "\n",
        "# to convert all the sentences to tokens\n",
        "def tokenization(sentence):\n",
        "    return sentence.split()\n",
        "\n",
        "# to convert the paragraphs into individual sentences\n",
        "def sentence_split(paragraph):\n",
        "    doc = nlp(paragraph)\n",
        "    return [sent.text for sent in doc.sents]"
      ]
    },
    {
      "cell_type": "markdown",
      "id": "6124b608",
      "metadata": {
        "id": "6124b608"
      },
      "source": [
        "The following function is created to calculate the word frequencies in the text."
      ]
    },
    {
      "cell_type": "code",
      "execution_count": null,
      "id": "2a52449c",
      "metadata": {
        "id": "2a52449c"
      },
      "outputs": [],
      "source": [
        "def word_freq(data):\n",
        "    w = []\n",
        "    for sentence in data:\n",
        "        for words in sentence:\n",
        "            w.append(words)\n",
        "    bag = list(set(w))\n",
        "    res = {word: w.count(word) for word in bag}\n",
        "    return res"
      ]
    },
    {
      "cell_type": "markdown",
      "id": "9b284843",
      "metadata": {
        "id": "9b284843"
      },
      "source": [
        "The following function is created to calculate the sentence weight based on the word frequencies in the sentence. So, the sentences having the most frequent words will have more weights."
      ]
    },
    {
      "cell_type": "code",
      "execution_count": null,
      "id": "443d502b",
      "metadata": {
        "id": "443d502b"
      },
      "outputs": [],
      "source": [
        "#to calculate sentence weights based on word frequencies\n",
        "def sentence_weight(data, wordfreq):\n",
        "    weights = []\n",
        "    for sentence in data:\n",
        "        temp = sum(wordfreq.get(word, 0) for word in sentence)\n",
        "        weights.append(temp)\n",
        "    return weights"
      ]
    },
    {
      "cell_type": "markdown",
      "id": "67df5ff7",
      "metadata": {
        "id": "67df5ff7"
      },
      "source": [
        "The following function is created to convert the raw text to list of sentences and tokenized data for processing."
      ]
    },
    {
      "cell_type": "code",
      "execution_count": null,
      "id": "9ab06d09",
      "metadata": {
        "id": "9ab06d09"
      },
      "outputs": [],
      "source": [
        "# to process the source data into tokenized sentences.\"\"\"\n",
        "def create_data(source_data):\n",
        "    sentence_list = sentence_split(source_data)\n",
        "    data = [tokenization(cleaning(casefolding(sentence))) for sentence in sentence_list]\n",
        "    data = list(filter(None, data))  # Remove empty sentences\n",
        "    return sentence_list, data"
      ]
    },
    {
      "cell_type": "markdown",
      "id": "c8cbd4ed",
      "metadata": {
        "id": "c8cbd4ed"
      },
      "source": [
        "The following function is created to find the word frequencies in the text and sort the dictionary based on the frequencies (in descending order)."
      ]
    },
    {
      "cell_type": "code",
      "execution_count": null,
      "id": "49550e25",
      "metadata": {
        "id": "49550e25"
      },
      "outputs": [],
      "source": [
        "def sorted_wordfreq(data):\n",
        "    wordfreq = word_freq(data)\n",
        "    sorted_dict=sorted(wordfreq.items(),key=lambda x:x[1], reverse=True)\n",
        "    return sorted_dict,wordfreq"
      ]
    },
    {
      "cell_type": "markdown",
      "id": "08bc1647",
      "metadata": {
        "id": "08bc1647"
      },
      "source": [
        "### Summary of which text do you want to read? Please give the input."
      ]
    },
    {
      "cell_type": "code",
      "source": [
        "text = '''\n",
        "In 1947, Portland, Maine, banker Andy Dufresne arrives at Shawshank State Prison to serve two consecutive life sentences for murdering his wife and her lover.\n",
        "He is befriended by Ellis Boyd \"Red\" Redding, a contraband smuggler serving a life sentence, who procures for him a rock hammer and a large poster of Rita Hayworth.\n",
        "Assigned to work in the prison laundry, Andy is frequently raped by \"the Sisters\" gang, led by Bogs Diamond.\n",
        "In 1949, Andy overhears the captain of the guards, Byron Hadley, complaining about being taxed on an inheritance and offers to help him shelter the money legally.\n",
        "After the Sisters beat Andy to near-death, Hadley cripples Bogs, who is subsequently transferred to a minimum security hospital; Andy is not attacked again.\n",
        "Warden Samuel Norton assigns Andy to the prison's decrepit library, ostensibly to assist elderly inmate Brooks Hatlen, but in reality, to leverage Andy's financial expertise for managing the finances of the warden and other prison staff.\n",
        "Andy also starts writing weekly letters to the state legislature, requesting funding to improve the library.\n",
        "Brooks is paroled in 1954 after serving 50 years, but cannot adjust to the outside world and eventually hangs himself.\n",
        "After years of Andy's ceaseless letters, the legislature sends a library donation that includes a recording of The Marriage of Figaro; Andy plays an excerpt over the public address system, experiencing a moment of personal freedom before he is punished with solitary confinement. After his release from solitary, Andy explains to a dismissive Red that hope is what gets him through his sentence.\n",
        "In 1963, Norton begins exploiting prison labor for public works, profiting by undercutting skilled labor costs and receiving bribes.\n",
        "Andy launders the money using the alias \"Randall Stephens.\"\n",
        "In 1965, Andy and Red befriend Tommy Williams, a young inmate convicted of burglary.\n",
        "Andy helps Tommy pass his General Educational Development exam, and Tommy later reveals that his cellmate at another prison confessed to committing the murders for which Andy was convicted.\n",
        "When Andy informs Norton, the warden refuses to act. Although Andy promises to keep the money laundering a secret, Norton has Hadley kill Tommy under the guise of an escape attempt and sends Andy to solitary confinement.\n",
        "Norton then threatens to destroy the library, strip Andy of guard protection, and transfer him to harsher conditions if he refuses to continue with his scheme.\n",
        "A dishevelled Andy is released from solitary confinement after two months.\n",
        "He tells a skeptical Red that he dreams of living in Zihuatanejo, a Mexican town on the Pacific coast where he can start anew.\n",
        "He asks Red to promise, once he is released, to travel to a specific hayfield near Buxton and recover a package that Andy buried there.\n",
        "Red worries that Andy is suicidal, especially after learning that he asked a fellow inmate for a rope.\n",
        "At the next day's roll call, the guards find Andy's cell empty.\n",
        "An irate Norton throws a rock at the poster hanging on the cell wall, revealing a tunnel that Andy had dug with his rock hammer over nearly two decades.\n",
        "The previous night, Andy escaped through the tunnel and prison sewage pipe, taking with him Norton's suit, shoes, and the ledger containing evidence of the money laundering and corruption at Shawshank.\n",
        "While guards search for him, Andy poses as Randall Stephens and withdraws over $370,000 of the laundered money from several banks,[a] before mailing the ledger to a local newspaper.\n",
        "State police arrive at Shawshank and take Hadley into custody, while Norton commits suicide to avoid arrest.\n",
        "The following year, Red is paroled after serving 40 years, but struggles to adapt to life outside prison and fears that he never will.\n",
        "Remembering his promise to Andy, he visits Buxton and finds a cache containing money and a letter inviting him to come to Zihuatanejo.\n",
        "Red violates his parole by traveling to Mexico, admitting that he finally feels hope.\n",
        "He finds Andy on a beach, and the reunited friends happily embrace.\n",
        "'''"
      ],
      "metadata": {
        "id": "htkUTTRuel0f"
      },
      "id": "htkUTTRuel0f",
      "execution_count": null,
      "outputs": []
    },
    {
      "cell_type": "code",
      "execution_count": null,
      "id": "90c4f6b3",
      "metadata": {
        "scrolled": true,
        "id": "90c4f6b3",
        "colab": {
          "base_uri": "https://localhost:8080/"
        },
        "outputId": "4798e466-fd81-44a1-b7a5-5d964a2740af"
      },
      "outputs": [
        {
          "output_type": "stream",
          "name": "stdout",
          "text": [
            "Number of characters: 4042\n"
          ]
        }
      ],
      "source": [
        "input_choice = str(text)\n",
        "print(\"Number of characters:\",len(input_choice))"
      ]
    },
    {
      "cell_type": "markdown",
      "id": "2b196a28",
      "metadata": {
        "id": "2b196a28"
      },
      "source": [
        "The following instructions will call the defined functions to create the tokenized data, list of sentences, find the word frequencies, create the dictionary as per word frequecies and finally rank the sentences as per the sentence weights."
      ]
    },
    {
      "cell_type": "code",
      "execution_count": null,
      "id": "db649999",
      "metadata": {
        "scrolled": false,
        "id": "db649999",
        "colab": {
          "base_uri": "https://localhost:8080/"
        },
        "outputId": "1d103390-1afa-47cd-e5cf-b10bd79dff18"
      },
      "outputs": [
        {
          "output_type": "stream",
          "name": "stdout",
          "text": [
            "Number of sentences: 30\n"
          ]
        }
      ],
      "source": [
        "# Process the input data\n",
        "sentence_list, data = create_data(input_choice)\n",
        "\n",
        "# Get sorted word frequencies\n",
        "sorted_dict, wordfreq = sorted_wordfreq(data)\n",
        "\n",
        "# Calculate sentence ranks\n",
        "rank = sentence_weight(data, wordfreq)\n",
        "\n",
        "print(\"Number of sentences:\",len(sentence_list))"
      ]
    },
    {
      "cell_type": "markdown",
      "id": "e55e871f",
      "metadata": {
        "id": "e55e871f"
      },
      "source": [
        "Sample tokenized data:"
      ]
    },
    {
      "cell_type": "code",
      "execution_count": null,
      "id": "ac6d20ae",
      "metadata": {
        "colab": {
          "base_uri": "https://localhost:8080/"
        },
        "id": "ac6d20ae",
        "outputId": "e5f017a7-32cc-45a1-fe14-0828fef4aab9"
      },
      "outputs": [
        {
          "output_type": "execute_result",
          "data": {
            "text/plain": [
              "[['after',\n",
              "  'the',\n",
              "  'sisters',\n",
              "  'beat',\n",
              "  'andy',\n",
              "  'to',\n",
              "  'near',\n",
              "  'death',\n",
              "  'hadley',\n",
              "  'cripples',\n",
              "  'bogs',\n",
              "  'who',\n",
              "  'is',\n",
              "  'subsequently',\n",
              "  'transferred',\n",
              "  'to',\n",
              "  'a',\n",
              "  'minimum',\n",
              "  'security',\n",
              "  'hospital',\n",
              "  'andy',\n",
              "  'is',\n",
              "  'not',\n",
              "  'attacked',\n",
              "  'again'],\n",
              " ['warden',\n",
              "  'samuel',\n",
              "  'norton',\n",
              "  'assigns',\n",
              "  'andy',\n",
              "  'to',\n",
              "  'the',\n",
              "  'prison',\n",
              "  's',\n",
              "  'decrepit',\n",
              "  'library',\n",
              "  'ostensibly',\n",
              "  'to',\n",
              "  'assist',\n",
              "  'elderly',\n",
              "  'inmate',\n",
              "  'brooks',\n",
              "  'hatlen',\n",
              "  'but',\n",
              "  'in',\n",
              "  'reality',\n",
              "  'to',\n",
              "  'leverage',\n",
              "  'andy',\n",
              "  's',\n",
              "  'financial',\n",
              "  'expertise',\n",
              "  'for',\n",
              "  'managing',\n",
              "  'the',\n",
              "  'finances',\n",
              "  'of',\n",
              "  'the',\n",
              "  'warden',\n",
              "  'and',\n",
              "  'other',\n",
              "  'prison',\n",
              "  'staff']]"
            ]
          },
          "metadata": {},
          "execution_count": 27
        }
      ],
      "source": [
        "data[4:6]"
      ]
    },
    {
      "cell_type": "markdown",
      "id": "79273253",
      "metadata": {
        "id": "79273253"
      },
      "source": [
        "Dictionary sorted as per word frequency (in descending order):"
      ]
    },
    {
      "cell_type": "code",
      "execution_count": null,
      "id": "50fffcc4",
      "metadata": {
        "id": "50fffcc4",
        "outputId": "a0dcedd8-406a-4198-bc0f-8b234b014b93",
        "colab": {
          "base_uri": "https://localhost:8080/"
        }
      },
      "outputs": [
        {
          "output_type": "execute_result",
          "data": {
            "text/plain": [
              "[('the', 35),\n",
              " ('to', 30),\n",
              " ('andy', 28),\n",
              " ('a', 25),\n",
              " ('and', 20),\n",
              " ('he', 13),\n",
              " ('of', 13),\n",
              " ('is', 11),\n",
              " ('that', 10),\n",
              " ('his', 9)]"
            ]
          },
          "metadata": {},
          "execution_count": 26
        }
      ],
      "source": [
        "sorted_dict[:10]"
      ]
    },
    {
      "cell_type": "markdown",
      "id": "9ae7dce4",
      "metadata": {
        "id": "9ae7dce4"
      },
      "source": [
        "How many sentences in the summary do you want to read? Please give the input."
      ]
    },
    {
      "cell_type": "code",
      "execution_count": null,
      "id": "9302b30e",
      "metadata": {
        "scrolled": true,
        "colab": {
          "base_uri": "https://localhost:8080/"
        },
        "id": "9302b30e",
        "outputId": "42cd34bb-b4b9-46a9-b97b-163686617933"
      },
      "outputs": [
        {
          "name": "stdout",
          "output_type": "stream",
          "text": [
            "How many sentences in the summary do you want to read? 2\n"
          ]
        }
      ],
      "source": [
        "n = int(input(\"How many sentences in the summary do you want to read? \"))"
      ]
    },
    {
      "cell_type": "code",
      "execution_count": null,
      "id": "ec87518b",
      "metadata": {
        "scrolled": true,
        "id": "ec87518b",
        "outputId": "13419e97-25ae-4475-f127-e681960fff20",
        "colab": {
          "base_uri": "https://localhost:8080/"
        }
      },
      "outputs": [
        {
          "output_type": "stream",
          "name": "stdout",
          "text": [
            "\n",
            "Summary:\n",
            " After years of Andy's ceaseless letters, the legislature sends a library donation that includes a recording of The Marriage of Figaro; Andy plays an excerpt over the public address system, experiencing a moment of personal freedom before he is punished with solitary confinement. Warden Samuel Norton assigns Andy to the prison's decrepit library, ostensibly to assist elderly inmate Brooks Hatlen, but in reality, to leverage Andy's financial expertise for managing the finances of the warden and other prison staff.\n",
            " \n"
          ]
        }
      ],
      "source": [
        "result = ''\n",
        "sort_list = np.argsort(rank)[::-1][:n]\n",
        "for i in range(n):\n",
        "    result += '{} '.format(sentence_list[sort_list[i]])\n",
        "print(\"\\nSummary:\\n\", result)"
      ]
    },
    {
      "cell_type": "markdown",
      "id": "f8d5c290",
      "metadata": {
        "id": "f8d5c290"
      },
      "source": [
        "## Word Cloud"
      ]
    },
    {
      "cell_type": "markdown",
      "id": "a14fb8be",
      "metadata": {
        "id": "a14fb8be"
      },
      "source": [
        "The following instruction finds the stopwords in the texts so that these can be removed from the word cloud. Stop words are often irrelavant in Natural Language Processing tasks which are generally determiners (e.g a, an, the), coordinating conjunctions (e.g. for, nor, but, so), prepositions (in, under, before) etc."
      ]
    },
    {
      "cell_type": "code",
      "execution_count": null,
      "id": "2bc52fd0",
      "metadata": {
        "id": "2bc52fd0"
      },
      "outputs": [],
      "source": [
        "stopwords = set(STOPWORDS)"
      ]
    },
    {
      "cell_type": "code",
      "execution_count": null,
      "id": "bbda317a",
      "metadata": {
        "id": "bbda317a"
      },
      "outputs": [],
      "source": [
        "trimmed_words = ''\n",
        "trim_length=20\n",
        "# trimmed_dict will consist of only a few high frequency words in the sorted dictionary\n",
        "trimmed_dict = sorted_dict [:trim_length]\n",
        "for i in range(trim_length):\n",
        "    trimmed_words +=\"\".join(str(trimmed_dict[i][0]))+\" \""
      ]
    },
    {
      "cell_type": "code",
      "execution_count": null,
      "id": "bb2506b9",
      "metadata": {
        "id": "bb2506b9"
      },
      "outputs": [],
      "source": [
        "wordcloud = WordCloud(width=800, height=800,\n",
        "                      background_color='white',\n",
        "                      stopwords=stopwords,\n",
        "                      prefer_horizontal=1.0,\n",
        "                      min_font_size = 10).generate(trimmed_words)"
      ]
    },
    {
      "cell_type": "code",
      "execution_count": null,
      "id": "ce1afeee",
      "metadata": {
        "id": "ce1afeee",
        "outputId": "c0f65beb-d62f-4dea-aeb2-30d99f9e49d1",
        "colab": {
          "base_uri": "https://localhost:8080/",
          "height": 836
        }
      },
      "outputs": [
        {
          "output_type": "display_data",
          "data": {
            "text/plain": [
              "<Figure size 800x800 with 1 Axes>"
            ],
            "image/png": "[encoded data removed]"
          },
          "metadata": {}
        }
      ],
      "source": [
        "plt.figure(figsize = (8, 8), facecolor = None)\n",
        "plt.imshow(wordcloud)\n",
        "plt.axis(\"off\")\n",
        "plt.tight_layout(pad = 0)\n",
        "plt.show()"
      ]
    },
    {
      "cell_type": "markdown",
      "source": [
        "## LSTM based Text Summerizer"
      ],
      "metadata": {
        "id": "5JZkyOAIuB4_"
      },
      "id": "5JZkyOAIuB4_"
    },
    {
      "cell_type": "markdown",
      "source": [
        "Long Short-Term Memory (LSTM) is a version of recurrent neural network designed by Hochreiter & Schmidhuber in 1997. LSTM architectures are capable of learning long-term dependencies in sequential data, which makes them well-suited for tasks such as language translation, time series forecasting, speech processing etc."
      ],
      "metadata": {
        "id": "2fQt2vz3uJUH"
      },
      "id": "2fQt2vz3uJUH"
    },
    {
      "cell_type": "markdown",
      "source": [
        "Now, LSTM model will be defined:"
      ],
      "metadata": {
        "id": "WpPideaBwL1g"
      },
      "id": "WpPideaBwL1g"
    },
    {
      "cell_type": "code",
      "source": [
        "# New Class and Functions for LSTM Summarization\n",
        "class LSTMModel(nn.Module):\n",
        "    \"\"\"Defines the LSTM model for sentence importance classification.\"\"\"\n",
        "    def __init__(self, vocab_size, embedding_dim, hidden_dim, output_dim):\n",
        "        super(LSTMModel, self).__init__()\n",
        "        self.embedding = nn.Embedding(vocab_size, embedding_dim)\n",
        "        self.lstm = nn.LSTM(embedding_dim, hidden_dim, batch_first=True)\n",
        "        self.fc = nn.Linear(hidden_dim, output_dim)\n",
        "        self.softmax = nn.Softmax(dim=1)\n",
        "\n",
        "    def forward(self, x):\n",
        "        embedded = self.embedding(x)\n",
        "        lstm_out, _ = self.lstm(embedded)\n",
        "        final_output = lstm_out[:, -1, :]\n",
        "        output = self.fc(final_output)\n",
        "        return self.softmax(output)"
      ],
      "metadata": {
        "id": "oyRDVubxwcv6"
      },
      "id": "oyRDVubxwcv6",
      "execution_count": null,
      "outputs": []
    },
    {
      "cell_type": "markdown",
      "source": [
        "To preprocess text:"
      ],
      "metadata": {
        "id": "E8eWJ8D6xud1"
      },
      "id": "E8eWJ8D6xud1"
    },
    {
      "cell_type": "code",
      "source": [
        "def preprocess_text(text):\n",
        "    \"\"\"Full preprocessing pipeline for input text.\"\"\"\n",
        "    sentences = sentence_split(text)\n",
        "    cleaned_sentences = [tokenization(cleaning(casefolding(sentence))) for sentence in sentences]\n",
        "    return sentences, cleaned_sentences"
      ],
      "metadata": {
        "id": "o8lOocztxw-G"
      },
      "id": "o8lOocztxw-G",
      "execution_count": null,
      "outputs": []
    },
    {
      "cell_type": "markdown",
      "source": [
        "To prepare the dataset as desired format: <br><br>\n",
        "*We make all the sentences (vectors) are of same length (equal to longest sentence) throuth padding. All unknown vocabulary are specified to remove confusion.*\n",
        "<br>\n",
        "![padding_truncation_vector.png](data:image/png;base64,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)\n",
        "\n"
      ],
      "metadata": {
        "id": "SFDnOS6UxIGi"
      },
      "id": "SFDnOS6UxIGi"
    },
    {
      "cell_type": "code",
      "source": [
        "class TextDataset(Dataset):\n",
        "    \"\"\"Dataset for sentence tokenization and padding.\"\"\"\n",
        "    def __init__(self, sentences, vocab):\n",
        "        self.sentences = sentences\n",
        "        self.vocab = vocab\n",
        "        self.max_len = max(len(sentence) for sentence in sentences)\n",
        "\n",
        "    def __len__(self):\n",
        "        return len(self.sentences)\n",
        "\n",
        "    def __getitem__(self, idx):\n",
        "        sentence = self.sentences[idx]\n",
        "        padded_sentence = [self.vocab.get(word, self.vocab['<UNK>']) for word in sentence]\n",
        "        padded_sentence = padded_sentence + [self.vocab['<PAD>']] * (self.max_len - len(padded_sentence))\n",
        "        return torch.tensor(padded_sentence, dtype=torch.long)"
      ],
      "metadata": {
        "id": "G5o24PDWwmX0"
      },
      "id": "G5o24PDWwmX0",
      "execution_count": null,
      "outputs": []
    },
    {
      "cell_type": "markdown",
      "source": [
        "To build the vocabulary:"
      ],
      "metadata": {
        "id": "bir2M6XcxBgg"
      },
      "id": "bir2M6XcxBgg"
    },
    {
      "cell_type": "code",
      "source": [
        "def build_vocab(sentences):\n",
        "    \"\"\"Builds a vocabulary from the tokenized sentences.\"\"\"\n",
        "    vocab = {'<PAD>': 0, '<UNK>': 1}\n",
        "    for sentence in sentences:\n",
        "        for word in sentence:\n",
        "            if word not in vocab:\n",
        "                vocab[word] = len(vocab)\n",
        "    return vocab"
      ],
      "metadata": {
        "id": "QXtTguHCwqsv"
      },
      "id": "QXtTguHCwqsv",
      "execution_count": null,
      "outputs": []
    },
    {
      "cell_type": "markdown",
      "source": [
        "To train the model:"
      ],
      "metadata": {
        "id": "-9zIWpAdw6uL"
      },
      "id": "-9zIWpAdw6uL"
    },
    {
      "cell_type": "code",
      "source": [
        "def train_model(model, dataloader, criterion, optimizer, epochs=2):\n",
        "    \"\"\"Trains the LSTM model.\"\"\"\n",
        "    model.train()\n",
        "    for epoch in range(epochs):\n",
        "        epoch_loss = 0\n",
        "        for batch in dataloader:\n",
        "            optimizer.zero_grad()\n",
        "            predictions = model(batch)\n",
        "            loss = criterion(predictions, torch.zeros(batch.size(0), dtype=torch.long))  # Assuming all sentences are not important (for simplicity)\n",
        "            loss.backward()\n",
        "            optimizer.step()\n",
        "            epoch_loss += loss.item()\n",
        "        print(f\"Epoch {epoch + 1}, Loss: {epoch_loss / len(dataloader):.4f}\")"
      ],
      "metadata": {
        "id": "v4bcfrWgw47M"
      },
      "id": "v4bcfrWgw47M",
      "execution_count": null,
      "outputs": []
    },
    {
      "cell_type": "markdown",
      "source": [
        "To summerization task based on the training of the model:"
      ],
      "metadata": {
        "id": "RDoeQLQwxPMy"
      },
      "id": "RDoeQLQwxPMy"
    },
    {
      "cell_type": "code",
      "source": [
        "def generate_summary(model, sentences, vocab, top_n=2):\n",
        "    \"\"\"Generates a summary by selecting top N important sentences.\"\"\"\n",
        "    model.eval()\n",
        "    sentence_scores = []\n",
        "    with torch.no_grad():\n",
        "        for sentence in sentences:\n",
        "            input_tensor = torch.tensor(\n",
        "                [vocab.get(word, vocab['<UNK>']) for word in sentence], dtype=torch.long\n",
        "            ).unsqueeze(0)\n",
        "            score = model(input_tensor)\n",
        "            sentence_scores.append(score[0][1].item())  # Importance score\n",
        "    top_sentence_indices = np.argsort(sentence_scores)[-top_n:]\n",
        "    summary = \" \".join(original_sentences[i] for i in top_sentence_indices)\n",
        "    return summary"
      ],
      "metadata": {
        "id": "qw7jTwz2xXN5"
      },
      "id": "qw7jTwz2xXN5",
      "execution_count": null,
      "outputs": []
    },
    {
      "cell_type": "markdown",
      "source": [
        "Now, the processes will begin:"
      ],
      "metadata": {
        "id": "o6NKwZAsx3Zv"
      },
      "id": "o6NKwZAsx3Zv"
    },
    {
      "cell_type": "code",
      "source": [
        "# Preprocess text\n",
        "original_sentences, tokenized_sentences = preprocess_text(text)\n",
        "\n",
        "# Build vocabulary\n",
        "vocab = build_vocab(tokenized_sentences)\n",
        "\n",
        "# Prepare dataset\n",
        "dataset = TextDataset(tokenized_sentences, vocab)\n",
        "dataloader = DataLoader(dataset, batch_size=2, shuffle=True)"
      ],
      "metadata": {
        "id": "EZvI-Te2x73b"
      },
      "id": "EZvI-Te2x73b",
      "execution_count": null,
      "outputs": []
    },
    {
      "cell_type": "markdown",
      "source": [
        "The model parameters defined for training:"
      ],
      "metadata": {
        "id": "9auwiSD_yFtC"
      },
      "id": "9auwiSD_yFtC"
    },
    {
      "cell_type": "code",
      "source": [
        "# Model parameters\n",
        "vocab_size = len(vocab)\n",
        "embedding_dim = 50\n",
        "hidden_dim = 100\n",
        "output_dim = 2  # For binary classification (important or not)\n",
        "model = LSTMModel(vocab_size, embedding_dim, hidden_dim, output_dim)\n",
        "\n",
        "# Loss and optimizer\n",
        "criterion = nn.CrossEntropyLoss()\n",
        "optimizer = optim.Adam(model.parameters(), lr=0.001)"
      ],
      "metadata": {
        "id": "R5Mk1zzzyJ4d"
      },
      "id": "R5Mk1zzzyJ4d",
      "execution_count": null,
      "outputs": []
    },
    {
      "cell_type": "markdown",
      "source": [
        "Finally, the training is started:"
      ],
      "metadata": {
        "id": "d9BgRmkOyPd2"
      },
      "id": "d9BgRmkOyPd2"
    },
    {
      "cell_type": "code",
      "source": [
        "# Train the model\n",
        "train_model(model, dataloader, criterion, optimizer, epochs=8)"
      ],
      "metadata": {
        "colab": {
          "base_uri": "https://localhost:8080/"
        },
        "id": "pcMBM_f2ySqx",
        "outputId": "7b89720a-1c41-4769-95d5-aa80c27e7f92"
      },
      "id": "pcMBM_f2ySqx",
      "execution_count": null,
      "outputs": [
        {
          "output_type": "stream",
          "name": "stdout",
          "text": [
            "Epoch 1, Loss: 0.4543\n",
            "Epoch 2, Loss: 0.3231\n",
            "Epoch 3, Loss: 0.3143\n",
            "Epoch 4, Loss: 0.3138\n",
            "Epoch 5, Loss: 0.3137\n",
            "Epoch 6, Loss: 0.3136\n",
            "Epoch 7, Loss: 0.3136\n",
            "Epoch 8, Loss: 0.3135\n"
          ]
        }
      ]
    },
    {
      "cell_type": "markdown",
      "source": [
        "Now, to generate the summary based on the trained LSTM model:"
      ],
      "metadata": {
        "id": "eOXVB4FuydhM"
      },
      "id": "eOXVB4FuydhM"
    },
    {
      "cell_type": "code",
      "source": [
        "# Generate Summary\n",
        "def generate_summary(model, sentences, vocab, top_n=3):\n",
        "    model.eval()\n",
        "    sentence_scores = []\n",
        "    with torch.no_grad():\n",
        "        for sentence in sentences:\n",
        "            input_tensor = torch.tensor(\n",
        "                [vocab.get(word, vocab['<UNK>']) for word in sentence], dtype=torch.long\n",
        "            ).unsqueeze(0)\n",
        "            score = model(input_tensor)\n",
        "            sentence_scores.append(score[0][1].item())  # Importance score\n",
        "    top_sentence_indices = np.argsort(sentence_scores)[-top_n:]\n",
        "    summary = \" \".join(original_sentences[i] for i in top_sentence_indices)\n",
        "    return summary\n",
        "\n",
        "summary = generate_summary(model, tokenized_sentences, vocab, top_n=3)\n",
        "print(\"\\nSummary:\\n\", summary)"
      ],
      "metadata": {
        "colab": {
          "base_uri": "https://localhost:8080/"
        },
        "id": "Cu70ZJycyh5x",
        "outputId": "e2443142-7b5d-4da2-d03a-4b0709376f6c"
      },
      "id": "Cu70ZJycyh5x",
      "execution_count": null,
      "outputs": [
        {
          "output_type": "stream",
          "name": "stdout",
          "text": [
            "\n",
            "Summary:\n",
            " In 1963, Norton begins exploiting prison labor for public works, profiting by undercutting skilled labor costs and receiving bribes.\n",
            " \n",
            "In 1947, Portland, Maine, banker Andy Dufresne arrives at Shawshank State Prison to serve two consecutive life sentences for murdering his wife and her lover.\n",
            " When Andy informs Norton, the warden refuses to act.\n"
          ]
        }
      ]
    },
    {
      "cell_type": "markdown",
      "source": [
        "##Summerization using transformers"
      ],
      "metadata": {
        "id": "-TKXoLIhMHjB"
      },
      "id": "-TKXoLIhMHjB"
    },
    {
      "cell_type": "markdown",
      "source": [
        "In 2017, a ground-breaking research paper \"Attention is All You Need\" was published by Google Research, which utilized Transformer mechanism for efficient translation. From then on, transformers have changed the world and the field of AI, including one of the most popular names in AI now-a-days \"ChatGPT\"."
      ],
      "metadata": {
        "id": "HVzDYZbzMNQc"
      },
      "id": "HVzDYZbzMNQc"
    },
    {
      "cell_type": "code",
      "execution_count": null,
      "metadata": {
        "id": "zhgSC0bfLbxE",
        "colab": {
          "base_uri": "https://localhost:8080/"
        },
        "outputId": "aa72ab99-e602-49cb-9acf-48de0e2ae269"
      },
      "outputs": [
        {
          "output_type": "stream",
          "name": "stdout",
          "text": [
            "Collecting datasets\n",
            "  Downloading datasets-3.2.0-py3-none-any.whl.metadata (20 kB)\n",
            "Collecting evaluate\n",
            "  Downloading evaluate-0.4.3-py3-none-any.whl.metadata (9.2 kB)\n",
            "Requirement already satisfied: transformers[sentencepiece] in /usr/local/lib/python3.10/dist-packages (4.47.1)\n",
            "Requirement already satisfied: filelock in /usr/local/lib/python3.10/dist-packages (from datasets) (3.16.1)\n",
            "Requirement already satisfied: numpy>=1.17 in /usr/local/lib/python3.10/dist-packages (from datasets) (1.26.4)\n",
            "Requirement already satisfied: pyarrow>=15.0.0 in /usr/local/lib/python3.10/dist-packages (from datasets) (17.0.0)\n",
            "Collecting dill<0.3.9,>=0.3.0 (from datasets)\n",
            "  Downloading dill-0.3.8-py3-none-any.whl.metadata (10 kB)\n",
            "Requirement already satisfied: pandas in /usr/local/lib/python3.10/dist-packages (from datasets) (2.2.2)\n",
            "Requirement already satisfied: requests>=2.32.2 in /usr/local/lib/python3.10/dist-packages (from datasets) (2.32.3)\n",
            "Requirement already satisfied: tqdm>=4.66.3 in /usr/local/lib/python3.10/dist-packages (from datasets) (4.67.1)\n",
            "Collecting xxhash (from datasets)\n",
            "  Downloading xxhash-3.5.0-cp310-cp310-manylinux_2_17_x86_64.manylinux2014_x86_64.whl.metadata (12 kB)\n",
            "Collecting multiprocess<0.70.17 (from datasets)\n",
            "  Downloading multiprocess-0.70.16-py310-none-any.whl.metadata (7.2 kB)\n",
            "Collecting fsspec<=2024.9.0,>=2023.1.0 (from fsspec[http]<=2024.9.0,>=2023.1.0->datasets)\n",
            "  Downloading fsspec-2024.9.0-py3-none-any.whl.metadata (11 kB)\n",
            "Requirement already satisfied: aiohttp in /usr/local/lib/python3.10/dist-packages (from datasets) (3.11.10)\n",
            "Requirement already satisfied: huggingface-hub>=0.23.0 in /usr/local/lib/python3.10/dist-packages (from datasets) (0.27.0)\n",
            "Requirement already satisfied: packaging in /usr/local/lib/python3.10/dist-packages (from datasets) (24.2)\n",
            "Requirement already satisfied: pyyaml>=5.1 in /usr/local/lib/python3.10/dist-packages (from datasets) (6.0.2)\n",
            "Requirement already satisfied: regex!=2019.12.17 in /usr/local/lib/python3.10/dist-packages (from transformers[sentencepiece]) (2024.11.6)\n",
            "Requirement already satisfied: tokenizers<0.22,>=0.21 in /usr/local/lib/python3.10/dist-packages (from transformers[sentencepiece]) (0.21.0)\n",
            "Requirement already satisfied: safetensors>=0.4.1 in /usr/local/lib/python3.10/dist-packages (from transformers[sentencepiece]) (0.4.5)\n",
            "Requirement already satisfied: sentencepiece!=0.1.92,>=0.1.91 in /usr/local/lib/python3.10/dist-packages (from transformers[sentencepiece]) (0.2.0)\n",
            "Requirement already satisfied: protobuf in /usr/local/lib/python3.10/dist-packages (from transformers[sentencepiece]) (4.25.5)\n",
            "Requirement already satisfied: aiohappyeyeballs>=2.3.0 in /usr/local/lib/python3.10/dist-packages (from aiohttp->datasets) (2.4.4)\n",
            "Requirement already satisfied: aiosignal>=1.1.2 in /usr/local/lib/python3.10/dist-packages (from aiohttp->datasets) (1.3.2)\n",
            "Requirement already satisfied: async-timeout<6.0,>=4.0 in /usr/local/lib/python3.10/dist-packages (from aiohttp->datasets) (4.0.3)\n",
            "Requirement already satisfied: attrs>=17.3.0 in /usr/local/lib/python3.10/dist-packages (from aiohttp->datasets) (24.3.0)\n",
            "Requirement already satisfied: frozenlist>=1.1.1 in /usr/local/lib/python3.10/dist-packages (from aiohttp->datasets) (1.5.0)\n",
            "Requirement already satisfied: multidict<7.0,>=4.5 in /usr/local/lib/python3.10/dist-packages (from aiohttp->datasets) (6.1.0)\n",
            "Requirement already satisfied: propcache>=0.2.0 in /usr/local/lib/python3.10/dist-packages (from aiohttp->datasets) (0.2.1)\n",
            "Requirement already satisfied: yarl<2.0,>=1.17.0 in /usr/local/lib/python3.10/dist-packages (from aiohttp->datasets) (1.18.3)\n",
            "Requirement already satisfied: typing-extensions>=3.7.4.3 in /usr/local/lib/python3.10/dist-packages (from huggingface-hub>=0.23.0->datasets) (4.12.2)\n",
            "Requirement already satisfied: charset-normalizer<4,>=2 in /usr/local/lib/python3.10/dist-packages (from requests>=2.32.2->datasets) (3.4.0)\n",
            "Requirement already satisfied: idna<4,>=2.5 in /usr/local/lib/python3.10/dist-packages (from requests>=2.32.2->datasets) (3.10)\n",
            "Requirement already satisfied: urllib3<3,>=1.21.1 in /usr/local/lib/python3.10/dist-packages (from requests>=2.32.2->datasets) (2.2.3)\n",
            "Requirement already satisfied: certifi>=2017.4.17 in /usr/local/lib/python3.10/dist-packages (from requests>=2.32.2->datasets) (2024.12.14)\n",
            "Requirement already satisfied: python-dateutil>=2.8.2 in /usr/local/lib/python3.10/dist-packages (from pandas->datasets) (2.8.2)\n",
            "Requirement already satisfied: pytz>=2020.1 in /usr/local/lib/python3.10/dist-packages (from pandas->datasets) (2024.2)\n",
            "Requirement already satisfied: tzdata>=2022.7 in /usr/local/lib/python3.10/dist-packages (from pandas->datasets) (2024.2)\n",
            "Requirement already satisfied: six>=1.5 in /usr/local/lib/python3.10/dist-packages (from python-dateutil>=2.8.2->pandas->datasets) (1.17.0)\n",
            "Downloading datasets-3.2.0-py3-none-any.whl (480 kB)\n",
            "\u001b[2K   \u001b[90m━━━━━━━━━━━━━━━━━━━━━━━━━━━━━━━━━━━━━━━━\u001b[0m \u001b[32m480.6/480.6 kB\u001b[0m \u001b[31m28.3 MB/s\u001b[0m eta \u001b[36m0:00:00\u001b[0m\n",
            "\u001b[?25hDownloading evaluate-0.4.3-py3-none-any.whl (84 kB)\n",
            "\u001b[2K   \u001b[90m━━━━━━━━━━━━━━━━━━━━━━━━━━━━━━━━━━━━━━━━\u001b[0m \u001b[32m84.0/84.0 kB\u001b[0m \u001b[31m7.2 MB/s\u001b[0m eta \u001b[36m0:00:00\u001b[0m\n",
            "\u001b[?25hDownloading dill-0.3.8-py3-none-any.whl (116 kB)\n",
            "\u001b[2K   \u001b[90m━━━━━━━━━━━━━━━━━━━━━━━━━━━━━━━━━━━━━━━━\u001b[0m \u001b[32m116.3/116.3 kB\u001b[0m \u001b[31m10.4 MB/s\u001b[0m eta \u001b[36m0:00:00\u001b[0m\n",
            "\u001b[?25hDownloading fsspec-2024.9.0-py3-none-any.whl (179 kB)\n",
            "\u001b[2K   \u001b[90m━━━━━━━━━━━━━━━━━━━━━━━━━━━━━━━━━━━━━━━━\u001b[0m \u001b[32m179.3/179.3 kB\u001b[0m \u001b[31m14.3 MB/s\u001b[0m eta \u001b[36m0:00:00\u001b[0m\n",
            "\u001b[?25hDownloading multiprocess-0.70.16-py310-none-any.whl (134 kB)\n",
            "\u001b[2K   \u001b[90m━━━━━━━━━━━━━━━━━━━━━━━━━━━━━━━━━━━━━━━━\u001b[0m \u001b[32m134.8/134.8 kB\u001b[0m \u001b[31m10.4 MB/s\u001b[0m eta \u001b[36m0:00:00\u001b[0m\n",
            "\u001b[?25hDownloading xxhash-3.5.0-cp310-cp310-manylinux_2_17_x86_64.manylinux2014_x86_64.whl (194 kB)\n",
            "\u001b[2K   \u001b[90m━━━━━━━━━━━━━━━━━━━━━━━━━━━━━━━━━━━━━━━━\u001b[0m \u001b[32m194.1/194.1 kB\u001b[0m \u001b[31m15.7 MB/s\u001b[0m eta \u001b[36m0:00:00\u001b[0m\n",
            "\u001b[?25hInstalling collected packages: xxhash, fsspec, dill, multiprocess, datasets, evaluate\n",
            "  Attempting uninstall: fsspec\n",
            "    Found existing installation: fsspec 2024.10.0\n",
            "    Uninstalling fsspec-2024.10.0:\n",
            "      Successfully uninstalled fsspec-2024.10.0\n",
            "\u001b[31mERROR: pip's dependency resolver does not currently take into account all the packages that are installed. This behaviour is the source of the following dependency conflicts.\n",
            "gcsfs 2024.10.0 requires fsspec==2024.10.0, but you have fsspec 2024.9.0 which is incompatible.\u001b[0m\u001b[31m\n",
            "\u001b[0mSuccessfully installed datasets-3.2.0 dill-0.3.8 evaluate-0.4.3 fsspec-2024.9.0 multiprocess-0.70.16 xxhash-3.5.0\n"
          ]
        }
      ],
      "source": [
        "#First, let's install the necessary libraries\n",
        "!pip install datasets evaluate transformers[sentencepiece]"
      ],
      "id": "zhgSC0bfLbxE"
    },
    {
      "cell_type": "code",
      "source": [
        "from transformers import pipeline\n",
        "\n",
        "summarizer = pipeline(\"summarization\")\n",
        "#summerizer = pipeline(\"summarization\", model=\"google-t5/t5-small\")"
      ],
      "metadata": {
        "colab": {
          "base_uri": "https://localhost:8080/",
          "height": 333,
          "referenced_widgets": [
            "3602dde8118646beb4c9a4eae14485bf",
            "b20397c22fef4a84be44cf8d1aba96b8",
            "093be7e3daf14373a4aaad60eba233ac",
            "8065dc01e57840ca9d2a891a61267932",
            "ad2b2b41957b4b71ad7d321ff44f9850",
            "cf142792632f4e85a7467932bfd8d8ca",
            "cf8d84fc17e04d8d9e7a2033e37ad3fb",
            "df0b07e9bed94415a16e9f8a02b3e75c",
            "7b723958ba7f485eab4eb3f50cdf2b2d",
            "0a12c143f5924daf8fb0e85fb8e21506",
            "1594907eb2424418a14eed3feb79a69d",
            "0722c6286e0c43c5a1f34e10b590c1f9",
            "c6bbb67e5bef4632bc956bc71383e94e",
            "422dc02cc4a648c3a31e81965652fef3",
            "a1f23a0f51684366b2ce8e92b7eb84fd",
            "4f773bed6f1947d987f799464e576dfb",
            "64670336df694f6083f4a5ece43e89ff",
            "90d449803d254e888df7e6c7633d821f",
            "b86fc5bba1a640d5bc8f276b202087e0",
            "364cccc2601d4d3c8d5b74286930e93c",
            "364437727f724bf891c11ff14c14095d",
            "f3f31caace474f509f6833646f8f9378",
            "33eaf4abaed345dab66e35632bc5f8e9",
            "db717e1ceabd41adbd189a125d40f217",
            "9b46db1c3b704970bf6e70f83053d621",
            "c8ad302c6b494df1a69c37eedefeb24c",
            "5f7b741a6e0e4023b666b09ed9dd3374",
            "30c03409e45b43dbbfe4cfd5e2427157",
            "b62cdb8b4e72498f92b8c16b45e489a8",
            "1c23ede4654d45b3b35e548bc8a78e6b",
            "c1e27fc9016d459f8584f0b06f0fec6b",
            "bfc1c64fb8b040958a85aae50dcacb6f",
            "9aed4cf9382e4afea9dd6695dfa0287e",
            "7901d274e845461fb57688522f7adc20",
            "bc28a4f40ad7449ca5bad3949d553d71",
            "e820ce88780b4b6599efb45981fedc0c",
            "badd5821b7a4459ab312a841641e5faa",
            "b2a9ade6eac5498caa0629a8eaa6d22e",
            "b017c50a6a6443b78962113ebbdb6ccc",
            "10bd90b61afb4aa2aca2dd60afa1fbc2",
            "7abab101f4104a8eb28bf057baab81b0",
            "e26746f8270a47849866b5a36fa64f7e",
            "06c9bf6565b640ea86c0df882d93dcbc",
            "8e41c0e422f14e089014f800e56c76f2",
            "afd9c5098024496b822f7a56ccb4813a",
            "c19c4e03828c466bb87d0b6127e5d387",
            "1281c77d97944f4b96b5fdd4683a1ce7",
            "f6df95af7cf24a1f80d66c8acf9b7ea2",
            "349795bf98894710911381260c0bb190",
            "eca08ed1af0943ad82258a584a7b3109",
            "9399df6eb45c46f49f337c358a2071d5",
            "d7e0cf2390b3491a9706b67e9d48e120",
            "264b6cae89054f698a9ae793b42f9fbf",
            "3659927a613c4229ac6de24b0f562fa7",
            "a91287112fff4f0aa4762a59b62c8413"
          ]
        },
        "id": "390M8-dnM-2C",
        "outputId": "10a9bcd8-0fe7-4ac0-a437-7432aa2e3d2c"
      },
      "id": "390M8-dnM-2C",
      "execution_count": null,
      "outputs": [
        {
          "output_type": "stream",
          "name": "stderr",
          "text": [
            "No model was supplied, defaulted to sshleifer/distilbart-cnn-12-6 and revision a4f8f3e (https://huggingface.co/sshleifer/distilbart-cnn-12-6).\n",
            "Using a pipeline without specifying a model name and revision in production is not recommended.\n",
            "/usr/local/lib/python3.10/dist-packages/huggingface_hub/utils/_auth.py:94: UserWarning: \n",
            "The secret `HF_TOKEN` does not exist in your Colab secrets.\n",
            "To authenticate with the Hugging Face Hub, create a token in your settings tab (https://huggingface.co/settings/tokens), set it as secret in your Google Colab and restart your session.\n",
            "You will be able to reuse this secret in all of your notebooks.\n",
            "Please note that authentication is recommended but still optional to access public models or datasets.\n",
            "  warnings.warn(\n"
          ]
        },
        {
          "output_type": "display_data",
          "data": {
            "text/plain": [
              "config.json:   0%|          | 0.00/1.80k [00:00<?, ?B/s]"
            ],
            "application/vnd.jupyter.widget-view+json": {
              "version_major": 2,
              "version_minor": 0,
              "model_id": "3602dde8118646beb4c9a4eae14485bf"
            }
          },
          "metadata": {}
        },
        {
          "output_type": "display_data",
          "data": {
            "text/plain": [
              "pytorch_model.bin:   0%|          | 0.00/1.22G [00:00<?, ?B/s]"
            ],
            "application/vnd.jupyter.widget-view+json": {
              "version_major": 2,
              "version_minor": 0,
              "model_id": "0722c6286e0c43c5a1f34e10b590c1f9"
            }
          },
          "metadata": {}
        },
        {
          "output_type": "display_data",
          "data": {
            "text/plain": [
              "tokenizer_config.json:   0%|          | 0.00/26.0 [00:00<?, ?B/s]"
            ],
            "application/vnd.jupyter.widget-view+json": {
              "version_major": 2,
              "version_minor": 0,
              "model_id": "33eaf4abaed345dab66e35632bc5f8e9"
            }
          },
          "metadata": {}
        },
        {
          "output_type": "display_data",
          "data": {
            "text/plain": [
              "vocab.json:   0%|          | 0.00/899k [00:00<?, ?B/s]"
            ],
            "application/vnd.jupyter.widget-view+json": {
              "version_major": 2,
              "version_minor": 0,
              "model_id": "7901d274e845461fb57688522f7adc20"
            }
          },
          "metadata": {}
        },
        {
          "output_type": "display_data",
          "data": {
            "text/plain": [
              "merges.txt:   0%|          | 0.00/456k [00:00<?, ?B/s]"
            ],
            "application/vnd.jupyter.widget-view+json": {
              "version_major": 2,
              "version_minor": 0,
              "model_id": "afd9c5098024496b822f7a56ccb4813a"
            }
          },
          "metadata": {}
        },
        {
          "output_type": "stream",
          "name": "stderr",
          "text": [
            "Device set to use cpu\n"
          ]
        }
      ]
    },
    {
      "cell_type": "markdown",
      "source": [
        "### **Now, without even training, just by using pre-trained transformer model, summerization is possible which is even better than previous two summeries**"
      ],
      "metadata": {
        "id": "xQij3CIjQ2SA"
      },
      "id": "xQij3CIjQ2SA"
    },
    {
      "cell_type": "code",
      "source": [
        "summarizer(input_choice)\n",
        "#summarizer(input_choice,max_length = 60)"
      ],
      "metadata": {
        "colab": {
          "base_uri": "https://localhost:8080/"
        },
        "id": "uHsx31-dNKyh",
        "outputId": "1072df93-7c5b-419a-d534-7ab31b4641b3"
      },
      "id": "uHsx31-dNKyh",
      "execution_count": null,
      "outputs": [
        {
          "output_type": "execute_result",
          "data": {
            "text/plain": [
              "[{'summary_text': ' Banker Andy Dufresne is sent to Shawshank State Prison to serve two consecutive life sentences for murdering his wife and her lover . He is befriended by Ellis Boyd \"Red\" Redding, a contraband smuggler serving a life sentence, who procures for him a rock hammer and a large poster of Rita Hayworth . In 1965, Andy and Red befriended Tommy Williams, a young inmate convicted of burglary, and Tommy later reveals that his cellmate at another prison confessed to committing the murders for which Andy was convicted . In 1963, the warden exploited prison labor for public works, profiting by undercutting skilled labor costs and receiving bribes .'}]"
            ]
          },
          "metadata": {},
          "execution_count": 46
        }
      ]
    },
    {
      "cell_type": "markdown",
      "id": "78bb5219",
      "metadata": {
        "id": "78bb5219"
      },
      "source": [
        "#### Additional Resources:"
      ]
    },
    {
      "cell_type": "markdown",
      "id": "b28fd345",
      "metadata": {
        "id": "b28fd345"
      },
      "source": [
        "1. [Numpy Documentation](https://numpy.org/doc/)\n",
        "2. [Matplotlib Documentation](https://matplotlib.org/stable/index.html)\n",
        "3. [Spacy documentation](https://spacy.io/usage/spacy-101)\n",
        "4. [Regular Expression library](https://docs.python.org/3/library/re.html)\n",
        "5. [Word Cloud documentation](https://pypi.org/project/wordcloud/)\n",
        "6. [PyTorch documentation](https://pytorch.org/docs/stable/index.html)\n",
        "7. [HuggingFace](https://huggingface.co/)\n",
        "8. [HuggingFace Learning Resources](https://huggingface.co/learn)\n",
        "9. [Newspaper3k: Article scraping & curation](https://newspaper.readthedocs.io/en/latest/)"
      ]
    },
    {
      "cell_type": "markdown",
      "id": "046cf7cd",
      "metadata": {
        "id": "046cf7cd"
      },
      "source": [
        "*Created by [Prachuryya Kaushik](https://www.iitg.ac.in/cse/student-pages/k.prachuryya) under the guidance of [Prof. Ashish Anand](https://www.iitg.ac.in/anand.ashish//)*"
      ]
    }
  ],
  "metadata": {
    "kernelspec": {
      "display_name": "Python 3 (ipykernel)",
      "language": "python",
      "name": "python3"
    },
    "language_info": {
      "codemirror_mode": {
        "name": "ipython",
        "version": 3
      },
      "file_extension": ".py",
      "mimetype": "text/x-python",
      "name": "python",
      "nbconvert_exporter": "python",
      "pygments_lexer": "ipython3",
      "version": "3.8.10"
    },
    "colab": {
      "provenance": []
    },
    "widgets": {
      "application/vnd.jupyter.widget-state+json": {
        "3602dde8118646beb4c9a4eae14485bf": {
          "model_module": "@jupyter-widgets/controls",
          "model_name": "HBoxModel",
          "model_module_version": "1.5.0",
          "state": {
            "_dom_classes": [],
            "_model_module": "@jupyter-widgets/controls",
            "_model_module_version": "1.5.0",
            "_model_name": "HBoxModel",
            "_view_count": null,
            "_view_module": "@jupyter-widgets/controls",
            "_view_module_version": "1.5.0",
            "_view_name": "HBoxView",
            "box_style": "",
            "children": [
              "IPY_MODEL_b20397c22fef4a84be44cf8d1aba96b8",
              "IPY_MODEL_093be7e3daf14373a4aaad60eba233ac",
              "IPY_MODEL_8065dc01e57840ca9d2a891a61267932"
            ],
            "layout": "IPY_MODEL_ad2b2b41957b4b71ad7d321ff44f9850"
          }
        },
        "b20397c22fef4a84be44cf8d1aba96b8": {
          "model_module": "@jupyter-widgets/controls",
          "model_name": "HTMLModel",
          "model_module_version": "1.5.0",
          "state": {
            "_dom_classes": [],
            "_model_module": "@jupyter-widgets/controls",
            "_model_module_version": "1.5.0",
            "_model_name": "HTMLModel",
            "_view_count": null,
            "_view_module": "@jupyter-widgets/controls",
            "_view_module_version": "1.5.0",
            "_view_name": "HTMLView",
            "description": "",
            "description_tooltip": null,
            "layout": "IPY_MODEL_cf142792632f4e85a7467932bfd8d8ca",
            "placeholder": "​",
            "style": "IPY_MODEL_cf8d84fc17e04d8d9e7a2033e37ad3fb",
            "value": "config.json: 100%"
          }
        },
        "093be7e3daf14373a4aaad60eba233ac": {
          "model_module": "@jupyter-widgets/controls",
          "model_name": "FloatProgressModel",
          "model_module_version": "1.5.0",
          "state": {
            "_dom_classes": [],
            "_model_module": "@jupyter-widgets/controls",
            "_model_module_version": "1.5.0",
            "_model_name": "FloatProgressModel",
            "_view_count": null,
            "_view_module": "@jupyter-widgets/controls",
            "_view_module_version": "1.5.0",
            "_view_name": "ProgressView",
            "bar_style": "success",
            "description": "",
            "description_tooltip": null,
            "layout": "IPY_MODEL_df0b07e9bed94415a16e9f8a02b3e75c",
            "max": 1802,
            "min": 0,
            "orientation": "horizontal",
            "style": "IPY_MODEL_7b723958ba7f485eab4eb3f50cdf2b2d",
            "value": 1802
          }
        },
        "8065dc01e57840ca9d2a891a61267932": {
          "model_module": "@jupyter-widgets/controls",
          "model_name": "HTMLModel",
          "model_module_version": "1.5.0",
          "state": {
            "_dom_classes": [],
            "_model_module": "@jupyter-widgets/controls",
            "_model_module_version": "1.5.0",
            "_model_name": "HTMLModel",
            "_view_count": null,
            "_view_module": "@jupyter-widgets/controls",
            "_view_module_version": "1.5.0",
            "_view_name": "HTMLView",
            "description": "",
            "description_tooltip": null,
            "layout": "IPY_MODEL_0a12c143f5924daf8fb0e85fb8e21506",
            "placeholder": "​",
            "style": "IPY_MODEL_1594907eb2424418a14eed3feb79a69d",
            "value": " 1.80k/1.80k [00:00&lt;00:00, 56.8kB/s]"
          }
        },
        "ad2b2b41957b4b71ad7d321ff44f9850": {
          "model_module": "@jupyter-widgets/base",
          "model_name": "LayoutModel",
          "model_module_version": "1.2.0",
          "state": {
            "_model_module": "@jupyter-widgets/base",
            "_model_module_version": "1.2.0",
            "_model_name": "LayoutModel",
            "_view_count": null,
            "_view_module": "@jupyter-widgets/base",
            "_view_module_version": "1.2.0",
            "_view_name": "LayoutView",
            "align_content": null,
            "align_items": null,
            "align_self": null,
            "border": null,
            "bottom": null,
            "display": null,
            "flex": null,
            "flex_flow": null,
            "grid_area": null,
            "grid_auto_columns": null,
            "grid_auto_flow": null,
            "grid_auto_rows": null,
            "grid_column": null,
            "grid_gap": null,
            "grid_row": null,
            "grid_template_areas": null,
            "grid_template_columns": null,
            "grid_template_rows": null,
            "height": null,
            "justify_content": null,
            "justify_items": null,
            "left": null,
            "margin": null,
            "max_height": null,
            "max_width": null,
            "min_height": null,
            "min_width": null,
            "object_fit": null,
            "object_position": null,
            "order": null,
            "overflow": null,
            "overflow_x": null,
            "overflow_y": null,
            "padding": null,
            "right": null,
            "top": null,
            "visibility": null,
            "width": null
          }
        },
        "cf142792632f4e85a7467932bfd8d8ca": {
          "model_module": "@jupyter-widgets/base",
          "model_name": "LayoutModel",
          "model_module_version": "1.2.0",
          "state": {
            "_model_module": "@jupyter-widgets/base",
            "_model_module_version": "1.2.0",
            "_model_name": "LayoutModel",
            "_view_count": null,
            "_view_module": "@jupyter-widgets/base",
            "_view_module_version": "1.2.0",
            "_view_name": "LayoutView",
            "align_content": null,
            "align_items": null,
            "align_self": null,
            "border": null,
            "bottom": null,
            "display": null,
            "flex": null,
            "flex_flow": null,
            "grid_area": null,
            "grid_auto_columns": null,
            "grid_auto_flow": null,
            "grid_auto_rows": null,
            "grid_column": null,
            "grid_gap": null,
            "grid_row": null,
            "grid_template_areas": null,
            "grid_template_columns": null,
            "grid_template_rows": null,
            "height": null,
            "justify_content": null,
            "justify_items": null,
            "left": null,
            "margin": null,
            "max_height": null,
            "max_width": null,
            "min_height": null,
            "min_width": null,
            "object_fit": null,
            "object_position": null,
            "order": null,
            "overflow": null,
            "overflow_x": null,
            "overflow_y": null,
            "padding": null,
            "right": null,
            "top": null,
            "visibility": null,
            "width": null
          }
        },
        "cf8d84fc17e04d8d9e7a2033e37ad3fb": {
          "model_module": "@jupyter-widgets/controls",
          "model_name": "DescriptionStyleModel",
          "model_module_version": "1.5.0",
          "state": {
            "_model_module": "@jupyter-widgets/controls",
            "_model_module_version": "1.5.0",
            "_model_name": "DescriptionStyleModel",
            "_view_count": null,
            "_view_module": "@jupyter-widgets/base",
            "_view_module_version": "1.2.0",
            "_view_name": "StyleView",
            "description_width": ""
          }
        },
        "df0b07e9bed94415a16e9f8a02b3e75c": {
          "model_module": "@jupyter-widgets/base",
          "model_name": "LayoutModel",
          "model_module_version": "1.2.0",
          "state": {
            "_model_module": "@jupyter-widgets/base",
            "_model_module_version": "1.2.0",
            "_model_name": "LayoutModel",
            "_view_count": null,
            "_view_module": "@jupyter-widgets/base",
            "_view_module_version": "1.2.0",
            "_view_name": "LayoutView",
            "align_content": null,
            "align_items": null,
            "align_self": null,
            "border": null,
            "bottom": null,
            "display": null,
            "flex": null,
            "flex_flow": null,
            "grid_area": null,
            "grid_auto_columns": null,
            "grid_auto_flow": null,
            "grid_auto_rows": null,
            "grid_column": null,
            "grid_gap": null,
            "grid_row": null,
            "grid_template_areas": null,
            "grid_template_columns": null,
            "grid_template_rows": null,
            "height": null,
            "justify_content": null,
            "justify_items": null,
            "left": null,
            "margin": null,
            "max_height": null,
            "max_width": null,
            "min_height": null,
            "min_width": null,
            "object_fit": null,
            "object_position": null,
            "order": null,
            "overflow": null,
            "overflow_x": null,
            "overflow_y": null,
            "padding": null,
            "right": null,
            "top": null,
            "visibility": null,
            "width": null
          }
        },
        "7b723958ba7f485eab4eb3f50cdf2b2d": {
          "model_module": "@jupyter-widgets/controls",
          "model_name": "ProgressStyleModel",
          "model_module_version": "1.5.0",
          "state": {
            "_model_module": "@jupyter-widgets/controls",
            "_model_module_version": "1.5.0",
            "_model_name": "ProgressStyleModel",
            "_view_count": null,
            "_view_module": "@jupyter-widgets/base",
            "_view_module_version": "1.2.0",
            "_view_name": "StyleView",
            "bar_color": null,
            "description_width": ""
          }
        },
        "0a12c143f5924daf8fb0e85fb8e21506": {
          "model_module": "@jupyter-widgets/base",
          "model_name": "LayoutModel",
          "model_module_version": "1.2.0",
          "state": {
            "_model_module": "@jupyter-widgets/base",
            "_model_module_version": "1.2.0",
            "_model_name": "LayoutModel",
            "_view_count": null,
            "_view_module": "@jupyter-widgets/base",
            "_view_module_version": "1.2.0",
            "_view_name": "LayoutView",
            "align_content": null,
            "align_items": null,
            "align_self": null,
            "border": null,
            "bottom": null,
            "display": null,
            "flex": null,
            "flex_flow": null,
            "grid_area": null,
            "grid_auto_columns": null,
            "grid_auto_flow": null,
            "grid_auto_rows": null,
            "grid_column": null,
            "grid_gap": null,
            "grid_row": null,
            "grid_template_areas": null,
            "grid_template_columns": null,
            "grid_template_rows": null,
            "height": null,
            "justify_content": null,
            "justify_items": null,
            "left": null,
            "margin": null,
            "max_height": null,
            "max_width": null,
            "min_height": null,
            "min_width": null,
            "object_fit": null,
            "object_position": null,
            "order": null,
            "overflow": null,
            "overflow_x": null,
            "overflow_y": null,
            "padding": null,
            "right": null,
            "top": null,
            "visibility": null,
            "width": null
          }
        },
        "1594907eb2424418a14eed3feb79a69d": {
          "model_module": "@jupyter-widgets/controls",
          "model_name": "DescriptionStyleModel",
          "model_module_version": "1.5.0",
          "state": {
            "_model_module": "@jupyter-widgets/controls",
            "_model_module_version": "1.5.0",
            "_model_name": "DescriptionStyleModel",
            "_view_count": null,
            "_view_module": "@jupyter-widgets/base",
            "_view_module_version": "1.2.0",
            "_view_name": "StyleView",
            "description_width": ""
          }
        },
        "0722c6286e0c43c5a1f34e10b590c1f9": {
          "model_module": "@jupyter-widgets/controls",
          "model_name": "HBoxModel",
          "model_module_version": "1.5.0",
          "state": {
            "_dom_classes": [],
            "_model_module": "@jupyter-widgets/controls",
            "_model_module_version": "1.5.0",
            "_model_name": "HBoxModel",
            "_view_count": null,
            "_view_module": "@jupyter-widgets/controls",
            "_view_module_version": "1.5.0",
            "_view_name": "HBoxView",
            "box_style": "",
            "children": [
              "IPY_MODEL_c6bbb67e5bef4632bc956bc71383e94e",
              "IPY_MODEL_422dc02cc4a648c3a31e81965652fef3",
              "IPY_MODEL_a1f23a0f51684366b2ce8e92b7eb84fd"
            ],
            "layout": "IPY_MODEL_4f773bed6f1947d987f799464e576dfb"
          }
        },
        "c6bbb67e5bef4632bc956bc71383e94e": {
          "model_module": "@jupyter-widgets/controls",
          "model_name": "HTMLModel",
          "model_module_version": "1.5.0",
          "state": {
            "_dom_classes": [],
            "_model_module": "@jupyter-widgets/controls",
            "_model_module_version": "1.5.0",
            "_model_name": "HTMLModel",
            "_view_count": null,
            "_view_module": "@jupyter-widgets/controls",
            "_view_module_version": "1.5.0",
            "_view_name": "HTMLView",
            "description": "",
            "description_tooltip": null,
            "layout": "IPY_MODEL_64670336df694f6083f4a5ece43e89ff",
            "placeholder": "​",
            "style": "IPY_MODEL_90d449803d254e888df7e6c7633d821f",
            "value": "pytorch_model.bin: 100%"
          }
        },
        "422dc02cc4a648c3a31e81965652fef3": {
          "model_module": "@jupyter-widgets/controls",
          "model_name": "FloatProgressModel",
          "model_module_version": "1.5.0",
          "state": {
            "_dom_classes": [],
            "_model_module": "@jupyter-widgets/controls",
            "_model_module_version": "1.5.0",
            "_model_name": "FloatProgressModel",
            "_view_count": null,
            "_view_module": "@jupyter-widgets/controls",
            "_view_module_version": "1.5.0",
            "_view_name": "ProgressView",
            "bar_style": "success",
            "description": "",
            "description_tooltip": null,
            "layout": "IPY_MODEL_b86fc5bba1a640d5bc8f276b202087e0",
            "max": 1222317369,
            "min": 0,
            "orientation": "horizontal",
            "style": "IPY_MODEL_364cccc2601d4d3c8d5b74286930e93c",
            "value": 1222317369
          }
        },
        "a1f23a0f51684366b2ce8e92b7eb84fd": {
          "model_module": "@jupyter-widgets/controls",
          "model_name": "HTMLModel",
          "model_module_version": "1.5.0",
          "state": {
            "_dom_classes": [],
            "_model_module": "@jupyter-widgets/controls",
            "_model_module_version": "1.5.0",
            "_model_name": "HTMLModel",
            "_view_count": null,
            "_view_module": "@jupyter-widgets/controls",
            "_view_module_version": "1.5.0",
            "_view_name": "HTMLView",
            "description": "",
            "description_tooltip": null,
            "layout": "IPY_MODEL_364437727f724bf891c11ff14c14095d",
            "placeholder": "​",
            "style": "IPY_MODEL_f3f31caace474f509f6833646f8f9378",
            "value": " 1.22G/1.22G [00:05&lt;00:00, 234MB/s]"
          }
        },
        "4f773bed6f1947d987f799464e576dfb": {
          "model_module": "@jupyter-widgets/base",
          "model_name": "LayoutModel",
          "model_module_version": "1.2.0",
          "state": {
            "_model_module": "@jupyter-widgets/base",
            "_model_module_version": "1.2.0",
            "_model_name": "LayoutModel",
            "_view_count": null,
            "_view_module": "@jupyter-widgets/base",
            "_view_module_version": "1.2.0",
            "_view_name": "LayoutView",
            "align_content": null,
            "align_items": null,
            "align_self": null,
            "border": null,
            "bottom": null,
            "display": null,
            "flex": null,
            "flex_flow": null,
            "grid_area": null,
            "grid_auto_columns": null,
            "grid_auto_flow": null,
            "grid_auto_rows": null,
            "grid_column": null,
            "grid_gap": null,
            "grid_row": null,
            "grid_template_areas": null,
            "grid_template_columns": null,
            "grid_template_rows": null,
            "height": null,
            "justify_content": null,
            "justify_items": null,
            "left": null,
            "margin": null,
            "max_height": null,
            "max_width": null,
            "min_height": null,
            "min_width": null,
            "object_fit": null,
            "object_position": null,
            "order": null,
            "overflow": null,
            "overflow_x": null,
            "overflow_y": null,
            "padding": null,
            "right": null,
            "top": null,
            "visibility": null,
            "width": null
          }
        },
        "64670336df694f6083f4a5ece43e89ff": {
          "model_module": "@jupyter-widgets/base",
          "model_name": "LayoutModel",
          "model_module_version": "1.2.0",
          "state": {
            "_model_module": "@jupyter-widgets/base",
            "_model_module_version": "1.2.0",
            "_model_name": "LayoutModel",
            "_view_count": null,
            "_view_module": "@jupyter-widgets/base",
            "_view_module_version": "1.2.0",
            "_view_name": "LayoutView",
            "align_content": null,
            "align_items": null,
            "align_self": null,
            "border": null,
            "bottom": null,
            "display": null,
            "flex": null,
            "flex_flow": null,
            "grid_area": null,
            "grid_auto_columns": null,
            "grid_auto_flow": null,
            "grid_auto_rows": null,
            "grid_column": null,
            "grid_gap": null,
            "grid_row": null,
            "grid_template_areas": null,
            "grid_template_columns": null,
            "grid_template_rows": null,
            "height": null,
            "justify_content": null,
            "justify_items": null,
            "left": null,
            "margin": null,
            "max_height": null,
            "max_width": null,
            "min_height": null,
            "min_width": null,
            "object_fit": null,
            "object_position": null,
            "order": null,
            "overflow": null,
            "overflow_x": null,
            "overflow_y": null,
            "padding": null,
            "right": null,
            "top": null,
            "visibility": null,
            "width": null
          }
        },
        "90d449803d254e888df7e6c7633d821f": {
          "model_module": "@jupyter-widgets/controls",
          "model_name": "DescriptionStyleModel",
          "model_module_version": "1.5.0",
          "state": {
            "_model_module": "@jupyter-widgets/controls",
            "_model_module_version": "1.5.0",
            "_model_name": "DescriptionStyleModel",
            "_view_count": null,
            "_view_module": "@jupyter-widgets/base",
            "_view_module_version": "1.2.0",
            "_view_name": "StyleView",
            "description_width": ""
          }
        },
        "b86fc5bba1a640d5bc8f276b202087e0": {
          "model_module": "@jupyter-widgets/base",
          "model_name": "LayoutModel",
          "model_module_version": "1.2.0",
          "state": {
            "_model_module": "@jupyter-widgets/base",
            "_model_module_version": "1.2.0",
            "_model_name": "LayoutModel",
            "_view_count": null,
            "_view_module": "@jupyter-widgets/base",
            "_view_module_version": "1.2.0",
            "_view_name": "LayoutView",
            "align_content": null,
            "align_items": null,
            "align_self": null,
            "border": null,
            "bottom": null,
            "display": null,
            "flex": null,
            "flex_flow": null,
            "grid_area": null,
            "grid_auto_columns": null,
            "grid_auto_flow": null,
            "grid_auto_rows": null,
            "grid_column": null,
            "grid_gap": null,
            "grid_row": null,
            "grid_template_areas": null,
            "grid_template_columns": null,
            "grid_template_rows": null,
            "height": null,
            "justify_content": null,
            "justify_items": null,
            "left": null,
            "margin": null,
            "max_height": null,
            "max_width": null,
            "min_height": null,
            "min_width": null,
            "object_fit": null,
            "object_position": null,
            "order": null,
            "overflow": null,
            "overflow_x": null,
            "overflow_y": null,
            "padding": null,
            "right": null,
            "top": null,
            "visibility": null,
            "width": null
          }
        },
        "364cccc2601d4d3c8d5b74286930e93c": {
          "model_module": "@jupyter-widgets/controls",
          "model_name": "ProgressStyleModel",
          "model_module_version": "1.5.0",
          "state": {
            "_model_module": "@jupyter-widgets/controls",
            "_model_module_version": "1.5.0",
            "_model_name": "ProgressStyleModel",
            "_view_count": null,
            "_view_module": "@jupyter-widgets/base",
            "_view_module_version": "1.2.0",
            "_view_name": "StyleView",
            "bar_color": null,
            "description_width": ""
          }
        },
        "364437727f724bf891c11ff14c14095d": {
          "model_module": "@jupyter-widgets/base",
          "model_name": "LayoutModel",
          "model_module_version": "1.2.0",
          "state": {
            "_model_module": "@jupyter-widgets/base",
            "_model_module_version": "1.2.0",
            "_model_name": "LayoutModel",
            "_view_count": null,
            "_view_module": "@jupyter-widgets/base",
            "_view_module_version": "1.2.0",
            "_view_name": "LayoutView",
            "align_content": null,
            "align_items": null,
            "align_self": null,
            "border": null,
            "bottom": null,
            "display": null,
            "flex": null,
            "flex_flow": null,
            "grid_area": null,
            "grid_auto_columns": null,
            "grid_auto_flow": null,
            "grid_auto_rows": null,
            "grid_column": null,
            "grid_gap": null,
            "grid_row": null,
            "grid_template_areas": null,
            "grid_template_columns": null,
            "grid_template_rows": null,
            "height": null,
            "justify_content": null,
            "justify_items": null,
            "left": null,
            "margin": null,
            "max_height": null,
            "max_width": null,
            "min_height": null,
            "min_width": null,
            "object_fit": null,
            "object_position": null,
            "order": null,
            "overflow": null,
            "overflow_x": null,
            "overflow_y": null,
            "padding": null,
            "right": null,
            "top": null,
            "visibility": null,
            "width": null
          }
        },
        "f3f31caace474f509f6833646f8f9378": {
          "model_module": "@jupyter-widgets/controls",
          "model_name": "DescriptionStyleModel",
          "model_module_version": "1.5.0",
          "state": {
            "_model_module": "@jupyter-widgets/controls",
            "_model_module_version": "1.5.0",
            "_model_name": "DescriptionStyleModel",
            "_view_count": null,
            "_view_module": "@jupyter-widgets/base",
            "_view_module_version": "1.2.0",
            "_view_name": "StyleView",
            "description_width": ""
          }
        },
        "33eaf4abaed345dab66e35632bc5f8e9": {
          "model_module": "@jupyter-widgets/controls",
          "model_name": "HBoxModel",
          "model_module_version": "1.5.0",
          "state": {
            "_dom_classes": [],
            "_model_module": "@jupyter-widgets/controls",
            "_model_module_version": "1.5.0",
            "_model_name": "HBoxModel",
            "_view_count": null,
            "_view_module": "@jupyter-widgets/controls",
            "_view_module_version": "1.5.0",
            "_view_name": "HBoxView",
            "box_style": "",
            "children": [
              "IPY_MODEL_db717e1ceabd41adbd189a125d40f217",
              "IPY_MODEL_9b46db1c3b704970bf6e70f83053d621",
              "IPY_MODEL_c8ad302c6b494df1a69c37eedefeb24c"
            ],
            "layout": "IPY_MODEL_5f7b741a6e0e4023b666b09ed9dd3374"
          }
        },
        "db717e1ceabd41adbd189a125d40f217": {
          "model_module": "@jupyter-widgets/controls",
          "model_name": "HTMLModel",
          "model_module_version": "1.5.0",
          "state": {
            "_dom_classes": [],
            "_model_module": "@jupyter-widgets/controls",
            "_model_module_version": "1.5.0",
            "_model_name": "HTMLModel",
            "_view_count": null,
            "_view_module": "@jupyter-widgets/controls",
            "_view_module_version": "1.5.0",
            "_view_name": "HTMLView",
            "description": "",
            "description_tooltip": null,
            "layout": "IPY_MODEL_30c03409e45b43dbbfe4cfd5e2427157",
            "placeholder": "​",
            "style": "IPY_MODEL_b62cdb8b4e72498f92b8c16b45e489a8",
            "value": "tokenizer_config.json: 100%"
          }
        },
        "9b46db1c3b704970bf6e70f83053d621": {
          "model_module": "@jupyter-widgets/controls",
          "model_name": "FloatProgressModel",
          "model_module_version": "1.5.0",
          "state": {
            "_dom_classes": [],
            "_model_module": "@jupyter-widgets/controls",
            "_model_module_version": "1.5.0",
            "_model_name": "FloatProgressModel",
            "_view_count": null,
            "_view_module": "@jupyter-widgets/controls",
            "_view_module_version": "1.5.0",
            "_view_name": "ProgressView",
            "bar_style": "success",
            "description": "",
            "description_tooltip": null,
            "layout": "IPY_MODEL_1c23ede4654d45b3b35e548bc8a78e6b",
            "max": 26,
            "min": 0,
            "orientation": "horizontal",
            "style": "IPY_MODEL_c1e27fc9016d459f8584f0b06f0fec6b",
            "value": 26
          }
        },
        "c8ad302c6b494df1a69c37eedefeb24c": {
          "model_module": "@jupyter-widgets/controls",
          "model_name": "HTMLModel",
          "model_module_version": "1.5.0",
          "state": {
            "_dom_classes": [],
            "_model_module": "@jupyter-widgets/controls",
            "_model_module_version": "1.5.0",
            "_model_name": "HTMLModel",
            "_view_count": null,
            "_view_module": "@jupyter-widgets/controls",
            "_view_module_version": "1.5.0",
            "_view_name": "HTMLView",
            "description": "",
            "description_tooltip": null,
            "layout": "IPY_MODEL_bfc1c64fb8b040958a85aae50dcacb6f",
            "placeholder": "​",
            "style": "IPY_MODEL_9aed4cf9382e4afea9dd6695dfa0287e",
            "value": " 26.0/26.0 [00:00&lt;00:00, 934B/s]"
          }
        },
        "5f7b741a6e0e4023b666b09ed9dd3374": {
          "model_module": "@jupyter-widgets/base",
          "model_name": "LayoutModel",
          "model_module_version": "1.2.0",
          "state": {
            "_model_module": "@jupyter-widgets/base",
            "_model_module_version": "1.2.0",
            "_model_name": "LayoutModel",
            "_view_count": null,
            "_view_module": "@jupyter-widgets/base",
            "_view_module_version": "1.2.0",
            "_view_name": "LayoutView",
            "align_content": null,
            "align_items": null,
            "align_self": null,
            "border": null,
            "bottom": null,
            "display": null,
            "flex": null,
            "flex_flow": null,
            "grid_area": null,
            "grid_auto_columns": null,
            "grid_auto_flow": null,
            "grid_auto_rows": null,
            "grid_column": null,
            "grid_gap": null,
            "grid_row": null,
            "grid_template_areas": null,
            "grid_template_columns": null,
            "grid_template_rows": null,
            "height": null,
            "justify_content": null,
            "justify_items": null,
            "left": null,
            "margin": null,
            "max_height": null,
            "max_width": null,
            "min_height": null,
            "min_width": null,
            "object_fit": null,
            "object_position": null,
            "order": null,
            "overflow": null,
            "overflow_x": null,
            "overflow_y": null,
            "padding": null,
            "right": null,
            "top": null,
            "visibility": null,
            "width": null
          }
        },
        "30c03409e45b43dbbfe4cfd5e2427157": {
          "model_module": "@jupyter-widgets/base",
          "model_name": "LayoutModel",
          "model_module_version": "1.2.0",
          "state": {
            "_model_module": "@jupyter-widgets/base",
            "_model_module_version": "1.2.0",
            "_model_name": "LayoutModel",
            "_view_count": null,
            "_view_module": "@jupyter-widgets/base",
            "_view_module_version": "1.2.0",
            "_view_name": "LayoutView",
            "align_content": null,
            "align_items": null,
            "align_self": null,
            "border": null,
            "bottom": null,
            "display": null,
            "flex": null,
            "flex_flow": null,
            "grid_area": null,
            "grid_auto_columns": null,
            "grid_auto_flow": null,
            "grid_auto_rows": null,
            "grid_column": null,
            "grid_gap": null,
            "grid_row": null,
            "grid_template_areas": null,
            "grid_template_columns": null,
            "grid_template_rows": null,
            "height": null,
            "justify_content": null,
            "justify_items": null,
            "left": null,
            "margin": null,
            "max_height": null,
            "max_width": null,
            "min_height": null,
            "min_width": null,
            "object_fit": null,
            "object_position": null,
            "order": null,
            "overflow": null,
            "overflow_x": null,
            "overflow_y": null,
            "padding": null,
            "right": null,
            "top": null,
            "visibility": null,
            "width": null
          }
        },
        "b62cdb8b4e72498f92b8c16b45e489a8": {
          "model_module": "@jupyter-widgets/controls",
          "model_name": "DescriptionStyleModel",
          "model_module_version": "1.5.0",
          "state": {
            "_model_module": "@jupyter-widgets/controls",
            "_model_module_version": "1.5.0",
            "_model_name": "DescriptionStyleModel",
            "_view_count": null,
            "_view_module": "@jupyter-widgets/base",
            "_view_module_version": "1.2.0",
            "_view_name": "StyleView",
            "description_width": ""
          }
        },
        "1c23ede4654d45b3b35e548bc8a78e6b": {
          "model_module": "@jupyter-widgets/base",
          "model_name": "LayoutModel",
          "model_module_version": "1.2.0",
          "state": {
            "_model_module": "@jupyter-widgets/base",
            "_model_module_version": "1.2.0",
            "_model_name": "LayoutModel",
            "_view_count": null,
            "_view_module": "@jupyter-widgets/base",
            "_view_module_version": "1.2.0",
            "_view_name": "LayoutView",
            "align_content": null,
            "align_items": null,
            "align_self": null,
            "border": null,
            "bottom": null,
            "display": null,
            "flex": null,
            "flex_flow": null,
            "grid_area": null,
            "grid_auto_columns": null,
            "grid_auto_flow": null,
            "grid_auto_rows": null,
            "grid_column": null,
            "grid_gap": null,
            "grid_row": null,
            "grid_template_areas": null,
            "grid_template_columns": null,
            "grid_template_rows": null,
            "height": null,
            "justify_content": null,
            "justify_items": null,
            "left": null,
            "margin": null,
            "max_height": null,
            "max_width": null,
            "min_height": null,
            "min_width": null,
            "object_fit": null,
            "object_position": null,
            "order": null,
            "overflow": null,
            "overflow_x": null,
            "overflow_y": null,
            "padding": null,
            "right": null,
            "top": null,
            "visibility": null,
            "width": null
          }
        },
        "c1e27fc9016d459f8584f0b06f0fec6b": {
          "model_module": "@jupyter-widgets/controls",
          "model_name": "ProgressStyleModel",
          "model_module_version": "1.5.0",
          "state": {
            "_model_module": "@jupyter-widgets/controls",
            "_model_module_version": "1.5.0",
            "_model_name": "ProgressStyleModel",
            "_view_count": null,
            "_view_module": "@jupyter-widgets/base",
            "_view_module_version": "1.2.0",
            "_view_name": "StyleView",
            "bar_color": null,
            "description_width": ""
          }
        },
        "bfc1c64fb8b040958a85aae50dcacb6f": {
          "model_module": "@jupyter-widgets/base",
          "model_name": "LayoutModel",
          "model_module_version": "1.2.0",
          "state": {
            "_model_module": "@jupyter-widgets/base",
            "_model_module_version": "1.2.0",
            "_model_name": "LayoutModel",
            "_view_count": null,
            "_view_module": "@jupyter-widgets/base",
            "_view_module_version": "1.2.0",
            "_view_name": "LayoutView",
            "align_content": null,
            "align_items": null,
            "align_self": null,
            "border": null,
            "bottom": null,
            "display": null,
            "flex": null,
            "flex_flow": null,
            "grid_area": null,
            "grid_auto_columns": null,
            "grid_auto_flow": null,
            "grid_auto_rows": null,
            "grid_column": null,
            "grid_gap": null,
            "grid_row": null,
            "grid_template_areas": null,
            "grid_template_columns": null,
            "grid_template_rows": null,
            "height": null,
            "justify_content": null,
            "justify_items": null,
            "left": null,
            "margin": null,
            "max_height": null,
            "max_width": null,
            "min_height": null,
            "min_width": null,
            "object_fit": null,
            "object_position": null,
            "order": null,
            "overflow": null,
            "overflow_x": null,
            "overflow_y": null,
            "padding": null,
            "right": null,
            "top": null,
            "visibility": null,
            "width": null
          }
        },
        "9aed4cf9382e4afea9dd6695dfa0287e": {
          "model_module": "@jupyter-widgets/controls",
          "model_name": "DescriptionStyleModel",
          "model_module_version": "1.5.0",
          "state": {
            "_model_module": "@jupyter-widgets/controls",
            "_model_module_version": "1.5.0",
            "_model_name": "DescriptionStyleModel",
            "_view_count": null,
            "_view_module": "@jupyter-widgets/base",
            "_view_module_version": "1.2.0",
            "_view_name": "StyleView",
            "description_width": ""
          }
        },
        "7901d274e845461fb57688522f7adc20": {
          "model_module": "@jupyter-widgets/controls",
          "model_name": "HBoxModel",
          "model_module_version": "1.5.0",
          "state": {
            "_dom_classes": [],
            "_model_module": "@jupyter-widgets/controls",
            "_model_module_version": "1.5.0",
            "_model_name": "HBoxModel",
            "_view_count": null,
            "_view_module": "@jupyter-widgets/controls",
            "_view_module_version": "1.5.0",
            "_view_name": "HBoxView",
            "box_style": "",
            "children": [
              "IPY_MODEL_bc28a4f40ad7449ca5bad3949d553d71",
              "IPY_MODEL_e820ce88780b4b6599efb45981fedc0c",
              "IPY_MODEL_badd5821b7a4459ab312a841641e5faa"
            ],
            "layout": "IPY_MODEL_b2a9ade6eac5498caa0629a8eaa6d22e"
          }
        },
        "bc28a4f40ad7449ca5bad3949d553d71": {
          "model_module": "@jupyter-widgets/controls",
          "model_name": "HTMLModel",
          "model_module_version": "1.5.0",
          "state": {
            "_dom_classes": [],
            "_model_module": "@jupyter-widgets/controls",
            "_model_module_version": "1.5.0",
            "_model_name": "HTMLModel",
            "_view_count": null,
            "_view_module": "@jupyter-widgets/controls",
            "_view_module_version": "1.5.0",
            "_view_name": "HTMLView",
            "description": "",
            "description_tooltip": null,
            "layout": "IPY_MODEL_b017c50a6a6443b78962113ebbdb6ccc",
            "placeholder": "​",
            "style": "IPY_MODEL_10bd90b61afb4aa2aca2dd60afa1fbc2",
            "value": "vocab.json: 100%"
          }
        },
        "e820ce88780b4b6599efb45981fedc0c": {
          "model_module": "@jupyter-widgets/controls",
          "model_name": "FloatProgressModel",
          "model_module_version": "1.5.0",
          "state": {
            "_dom_classes": [],
            "_model_module": "@jupyter-widgets/controls",
            "_model_module_version": "1.5.0",
            "_model_name": "FloatProgressModel",
            "_view_count": null,
            "_view_module": "@jupyter-widgets/controls",
            "_view_module_version": "1.5.0",
            "_view_name": "ProgressView",
            "bar_style": "success",
            "description": "",
            "description_tooltip": null,
            "layout": "IPY_MODEL_7abab101f4104a8eb28bf057baab81b0",
            "max": 898822,
            "min": 0,
            "orientation": "horizontal",
            "style": "IPY_MODEL_e26746f8270a47849866b5a36fa64f7e",
            "value": 898822
          }
        },
        "badd5821b7a4459ab312a841641e5faa": {
          "model_module": "@jupyter-widgets/controls",
          "model_name": "HTMLModel",
          "model_module_version": "1.5.0",
          "state": {
            "_dom_classes": [],
            "_model_module": "@jupyter-widgets/controls",
            "_model_module_version": "1.5.0",
            "_model_name": "HTMLModel",
            "_view_count": null,
            "_view_module": "@jupyter-widgets/controls",
            "_view_module_version": "1.5.0",
            "_view_name": "HTMLView",
            "description": "",
            "description_tooltip": null,
            "layout": "IPY_MODEL_06c9bf6565b640ea86c0df882d93dcbc",
            "placeholder": "​",
            "style": "IPY_MODEL_8e41c0e422f14e089014f800e56c76f2",
            "value": " 899k/899k [00:00&lt;00:00, 27.6MB/s]"
          }
        },
        "b2a9ade6eac5498caa0629a8eaa6d22e": {
          "model_module": "@jupyter-widgets/base",
          "model_name": "LayoutModel",
          "model_module_version": "1.2.0",
          "state": {
            "_model_module": "@jupyter-widgets/base",
            "_model_module_version": "1.2.0",
            "_model_name": "LayoutModel",
            "_view_count": null,
            "_view_module": "@jupyter-widgets/base",
            "_view_module_version": "1.2.0",
            "_view_name": "LayoutView",
            "align_content": null,
            "align_items": null,
            "align_self": null,
            "border": null,
            "bottom": null,
            "display": null,
            "flex": null,
            "flex_flow": null,
            "grid_area": null,
            "grid_auto_columns": null,
            "grid_auto_flow": null,
            "grid_auto_rows": null,
            "grid_column": null,
            "grid_gap": null,
            "grid_row": null,
            "grid_template_areas": null,
            "grid_template_columns": null,
            "grid_template_rows": null,
            "height": null,
            "justify_content": null,
            "justify_items": null,
            "left": null,
            "margin": null,
            "max_height": null,
            "max_width": null,
            "min_height": null,
            "min_width": null,
            "object_fit": null,
            "object_position": null,
            "order": null,
            "overflow": null,
            "overflow_x": null,
            "overflow_y": null,
            "padding": null,
            "right": null,
            "top": null,
            "visibility": null,
            "width": null
          }
        },
        "b017c50a6a6443b78962113ebbdb6ccc": {
          "model_module": "@jupyter-widgets/base",
          "model_name": "LayoutModel",
          "model_module_version": "1.2.0",
          "state": {
            "_model_module": "@jupyter-widgets/base",
            "_model_module_version": "1.2.0",
            "_model_name": "LayoutModel",
            "_view_count": null,
            "_view_module": "@jupyter-widgets/base",
            "_view_module_version": "1.2.0",
            "_view_name": "LayoutView",
            "align_content": null,
            "align_items": null,
            "align_self": null,
            "border": null,
            "bottom": null,
            "display": null,
            "flex": null,
            "flex_flow": null,
            "grid_area": null,
            "grid_auto_columns": null,
            "grid_auto_flow": null,
            "grid_auto_rows": null,
            "grid_column": null,
            "grid_gap": null,
            "grid_row": null,
            "grid_template_areas": null,
            "grid_template_columns": null,
            "grid_template_rows": null,
            "height": null,
            "justify_content": null,
            "justify_items": null,
            "left": null,
            "margin": null,
            "max_height": null,
            "max_width": null,
            "min_height": null,
            "min_width": null,
            "object_fit": null,
            "object_position": null,
            "order": null,
            "overflow": null,
            "overflow_x": null,
            "overflow_y": null,
            "padding": null,
            "right": null,
            "top": null,
            "visibility": null,
            "width": null
          }
        },
        "10bd90b61afb4aa2aca2dd60afa1fbc2": {
          "model_module": "@jupyter-widgets/controls",
          "model_name": "DescriptionStyleModel",
          "model_module_version": "1.5.0",
          "state": {
            "_model_module": "@jupyter-widgets/controls",
            "_model_module_version": "1.5.0",
            "_model_name": "DescriptionStyleModel",
            "_view_count": null,
            "_view_module": "@jupyter-widgets/base",
            "_view_module_version": "1.2.0",
            "_view_name": "StyleView",
            "description_width": ""
          }
        },
        "7abab101f4104a8eb28bf057baab81b0": {
          "model_module": "@jupyter-widgets/base",
          "model_name": "LayoutModel",
          "model_module_version": "1.2.0",
          "state": {
            "_model_module": "@jupyter-widgets/base",
            "_model_module_version": "1.2.0",
            "_model_name": "LayoutModel",
            "_view_count": null,
            "_view_module": "@jupyter-widgets/base",
            "_view_module_version": "1.2.0",
            "_view_name": "LayoutView",
            "align_content": null,
            "align_items": null,
            "align_self": null,
            "border": null,
            "bottom": null,
            "display": null,
            "flex": null,
            "flex_flow": null,
            "grid_area": null,
            "grid_auto_columns": null,
            "grid_auto_flow": null,
            "grid_auto_rows": null,
            "grid_column": null,
            "grid_gap": null,
            "grid_row": null,
            "grid_template_areas": null,
            "grid_template_columns": null,
            "grid_template_rows": null,
            "height": null,
            "justify_content": null,
            "justify_items": null,
            "left": null,
            "margin": null,
            "max_height": null,
            "max_width": null,
            "min_height": null,
            "min_width": null,
            "object_fit": null,
            "object_position": null,
            "order": null,
            "overflow": null,
            "overflow_x": null,
            "overflow_y": null,
            "padding": null,
            "right": null,
            "top": null,
            "visibility": null,
            "width": null
          }
        },
        "e26746f8270a47849866b5a36fa64f7e": {
          "model_module": "@jupyter-widgets/controls",
          "model_name": "ProgressStyleModel",
          "model_module_version": "1.5.0",
          "state": {
            "_model_module": "@jupyter-widgets/controls",
            "_model_module_version": "1.5.0",
            "_model_name": "ProgressStyleModel",
            "_view_count": null,
            "_view_module": "@jupyter-widgets/base",
            "_view_module_version": "1.2.0",
            "_view_name": "StyleView",
            "bar_color": null,
            "description_width": ""
          }
        },
        "06c9bf6565b640ea86c0df882d93dcbc": {
          "model_module": "@jupyter-widgets/base",
          "model_name": "LayoutModel",
          "model_module_version": "1.2.0",
          "state": {
            "_model_module": "@jupyter-widgets/base",
            "_model_module_version": "1.2.0",
            "_model_name": "LayoutModel",
            "_view_count": null,
            "_view_module": "@jupyter-widgets/base",
            "_view_module_version": "1.2.0",
            "_view_name": "LayoutView",
            "align_content": null,
            "align_items": null,
            "align_self": null,
            "border": null,
            "bottom": null,
            "display": null,
            "flex": null,
            "flex_flow": null,
            "grid_area": null,
            "grid_auto_columns": null,
            "grid_auto_flow": null,
            "grid_auto_rows": null,
            "grid_column": null,
            "grid_gap": null,
            "grid_row": null,
            "grid_template_areas": null,
            "grid_template_columns": null,
            "grid_template_rows": null,
            "height": null,
            "justify_content": null,
            "justify_items": null,
            "left": null,
            "margin": null,
            "max_height": null,
            "max_width": null,
            "min_height": null,
            "min_width": null,
            "object_fit": null,
            "object_position": null,
            "order": null,
            "overflow": null,
            "overflow_x": null,
            "overflow_y": null,
            "padding": null,
            "right": null,
            "top": null,
            "visibility": null,
            "width": null
          }
        },
        "8e41c0e422f14e089014f800e56c76f2": {
          "model_module": "@jupyter-widgets/controls",
          "model_name": "DescriptionStyleModel",
          "model_module_version": "1.5.0",
          "state": {
            "_model_module": "@jupyter-widgets/controls",
            "_model_module_version": "1.5.0",
            "_model_name": "DescriptionStyleModel",
            "_view_count": null,
            "_view_module": "@jupyter-widgets/base",
            "_view_module_version": "1.2.0",
            "_view_name": "StyleView",
            "description_width": ""
          }
        },
        "afd9c5098024496b822f7a56ccb4813a": {
          "model_module": "@jupyter-widgets/controls",
          "model_name": "HBoxModel",
          "model_module_version": "1.5.0",
          "state": {
            "_dom_classes": [],
            "_model_module": "@jupyter-widgets/controls",
            "_model_module_version": "1.5.0",
            "_model_name": "HBoxModel",
            "_view_count": null,
            "_view_module": "@jupyter-widgets/controls",
            "_view_module_version": "1.5.0",
            "_view_name": "HBoxView",
            "box_style": "",
            "children": [
              "IPY_MODEL_c19c4e03828c466bb87d0b6127e5d387",
              "IPY_MODEL_1281c77d97944f4b96b5fdd4683a1ce7",
              "IPY_MODEL_f6df95af7cf24a1f80d66c8acf9b7ea2"
            ],
            "layout": "IPY_MODEL_349795bf98894710911381260c0bb190"
          }
        },
        "c19c4e03828c466bb87d0b6127e5d387": {
          "model_module": "@jupyter-widgets/controls",
          "model_name": "HTMLModel",
          "model_module_version": "1.5.0",
          "state": {
            "_dom_classes": [],
            "_model_module": "@jupyter-widgets/controls",
            "_model_module_version": "1.5.0",
            "_model_name": "HTMLModel",
            "_view_count": null,
            "_view_module": "@jupyter-widgets/controls",
            "_view_module_version": "1.5.0",
            "_view_name": "HTMLView",
            "description": "",
            "description_tooltip": null,
            "layout": "IPY_MODEL_eca08ed1af0943ad82258a584a7b3109",
            "placeholder": "​",
            "style": "IPY_MODEL_9399df6eb45c46f49f337c358a2071d5",
            "value": "merges.txt: 100%"
          }
        },
        "1281c77d97944f4b96b5fdd4683a1ce7": {
          "model_module": "@jupyter-widgets/controls",
          "model_name": "FloatProgressModel",
          "model_module_version": "1.5.0",
          "state": {
            "_dom_classes": [],
            "_model_module": "@jupyter-widgets/controls",
            "_model_module_version": "1.5.0",
            "_model_name": "FloatProgressModel",
            "_view_count": null,
            "_view_module": "@jupyter-widgets/controls",
            "_view_module_version": "1.5.0",
            "_view_name": "ProgressView",
            "bar_style": "success",
            "description": "",
            "description_tooltip": null,
            "layout": "IPY_MODEL_d7e0cf2390b3491a9706b67e9d48e120",
            "max": 456318,
            "min": 0,
            "orientation": "horizontal",
            "style": "IPY_MODEL_264b6cae89054f698a9ae793b42f9fbf",
            "value": 456318
          }
        },
        "f6df95af7cf24a1f80d66c8acf9b7ea2": {
          "model_module": "@jupyter-widgets/controls",
          "model_name": "HTMLModel",
          "model_module_version": "1.5.0",
          "state": {
            "_dom_classes": [],
            "_model_module": "@jupyter-widgets/controls",
            "_model_module_version": "1.5.0",
            "_model_name": "HTMLModel",
            "_view_count": null,
            "_view_module": "@jupyter-widgets/controls",
            "_view_module_version": "1.5.0",
            "_view_name": "HTMLView",
            "description": "",
            "description_tooltip": null,
            "layout": "IPY_MODEL_3659927a613c4229ac6de24b0f562fa7",
            "placeholder": "​",
            "style": "IPY_MODEL_a91287112fff4f0aa4762a59b62c8413",
            "value": " 456k/456k [00:00&lt;00:00, 19.2MB/s]"
          }
        },
        "349795bf98894710911381260c0bb190": {
          "model_module": "@jupyter-widgets/base",
          "model_name": "LayoutModel",
          "model_module_version": "1.2.0",
          "state": {
            "_model_module": "@jupyter-widgets/base",
            "_model_module_version": "1.2.0",
            "_model_name": "LayoutModel",
            "_view_count": null,
            "_view_module": "@jupyter-widgets/base",
            "_view_module_version": "1.2.0",
            "_view_name": "LayoutView",
            "align_content": null,
            "align_items": null,
            "align_self": null,
            "border": null,
            "bottom": null,
            "display": null,
            "flex": null,
            "flex_flow": null,
            "grid_area": null,
            "grid_auto_columns": null,
            "grid_auto_flow": null,
            "grid_auto_rows": null,
            "grid_column": null,
            "grid_gap": null,
            "grid_row": null,
            "grid_template_areas": null,
            "grid_template_columns": null,
            "grid_template_rows": null,
            "height": null,
            "justify_content": null,
            "justify_items": null,
            "left": null,
            "margin": null,
            "max_height": null,
            "max_width": null,
            "min_height": null,
            "min_width": null,
            "object_fit": null,
            "object_position": null,
            "order": null,
            "overflow": null,
            "overflow_x": null,
            "overflow_y": null,
            "padding": null,
            "right": null,
            "top": null,
            "visibility": null,
            "width": null
          }
        },
        "eca08ed1af0943ad82258a584a7b3109": {
          "model_module": "@jupyter-widgets/base",
          "model_name": "LayoutModel",
          "model_module_version": "1.2.0",
          "state": {
            "_model_module": "@jupyter-widgets/base",
            "_model_module_version": "1.2.0",
            "_model_name": "LayoutModel",
            "_view_count": null,
            "_view_module": "@jupyter-widgets/base",
            "_view_module_version": "1.2.0",
            "_view_name": "LayoutView",
            "align_content": null,
            "align_items": null,
            "align_self": null,
            "border": null,
            "bottom": null,
            "display": null,
            "flex": null,
            "flex_flow": null,
            "grid_area": null,
            "grid_auto_columns": null,
            "grid_auto_flow": null,
            "grid_auto_rows": null,
            "grid_column": null,
            "grid_gap": null,
            "grid_row": null,
            "grid_template_areas": null,
            "grid_template_columns": null,
            "grid_template_rows": null,
            "height": null,
            "justify_content": null,
            "justify_items": null,
            "left": null,
            "margin": null,
            "max_height": null,
            "max_width": null,
            "min_height": null,
            "min_width": null,
            "object_fit": null,
            "object_position": null,
            "order": null,
            "overflow": null,
            "overflow_x": null,
            "overflow_y": null,
            "padding": null,
            "right": null,
            "top": null,
            "visibility": null,
            "width": null
          }
        },
        "9399df6eb45c46f49f337c358a2071d5": {
          "model_module": "@jupyter-widgets/controls",
          "model_name": "DescriptionStyleModel",
          "model_module_version": "1.5.0",
          "state": {
            "_model_module": "@jupyter-widgets/controls",
            "_model_module_version": "1.5.0",
            "_model_name": "DescriptionStyleModel",
            "_view_count": null,
            "_view_module": "@jupyter-widgets/base",
            "_view_module_version": "1.2.0",
            "_view_name": "StyleView",
            "description_width": ""
          }
        },
        "d7e0cf2390b3491a9706b67e9d48e120": {
          "model_module": "@jupyter-widgets/base",
          "model_name": "LayoutModel",
          "model_module_version": "1.2.0",
          "state": {
            "_model_module": "@jupyter-widgets/base",
            "_model_module_version": "1.2.0",
            "_model_name": "LayoutModel",
            "_view_count": null,
            "_view_module": "@jupyter-widgets/base",
            "_view_module_version": "1.2.0",
            "_view_name": "LayoutView",
            "align_content": null,
            "align_items": null,
            "align_self": null,
            "border": null,
            "bottom": null,
            "display": null,
            "flex": null,
            "flex_flow": null,
            "grid_area": null,
            "grid_auto_columns": null,
            "grid_auto_flow": null,
            "grid_auto_rows": null,
            "grid_column": null,
            "grid_gap": null,
            "grid_row": null,
            "grid_template_areas": null,
            "grid_template_columns": null,
            "grid_template_rows": null,
            "height": null,
            "justify_content": null,
            "justify_items": null,
            "left": null,
            "margin": null,
            "max_height": null,
            "max_width": null,
            "min_height": null,
            "min_width": null,
            "object_fit": null,
            "object_position": null,
            "order": null,
            "overflow": null,
            "overflow_x": null,
            "overflow_y": null,
            "padding": null,
            "right": null,
            "top": null,
            "visibility": null,
            "width": null
          }
        },
        "264b6cae89054f698a9ae793b42f9fbf": {
          "model_module": "@jupyter-widgets/controls",
          "model_name": "ProgressStyleModel",
          "model_module_version": "1.5.0",
          "state": {
            "_model_module": "@jupyter-widgets/controls",
            "_model_module_version": "1.5.0",
            "_model_name": "ProgressStyleModel",
            "_view_count": null,
            "_view_module": "@jupyter-widgets/base",
            "_view_module_version": "1.2.0",
            "_view_name": "StyleView",
            "bar_color": null,
            "description_width": ""
          }
        },
        "3659927a613c4229ac6de24b0f562fa7": {
          "model_module": "@jupyter-widgets/base",
          "model_name": "LayoutModel",
          "model_module_version": "1.2.0",
          "state": {
            "_model_module": "@jupyter-widgets/base",
            "_model_module_version": "1.2.0",
            "_model_name": "LayoutModel",
            "_view_count": null,
            "_view_module": "@jupyter-widgets/base",
            "_view_module_version": "1.2.0",
            "_view_name": "LayoutView",
            "align_content": null,
            "align_items": null,
            "align_self": null,
            "border": null,
            "bottom": null,
            "display": null,
            "flex": null,
            "flex_flow": null,
            "grid_area": null,
            "grid_auto_columns": null,
            "grid_auto_flow": null,
            "grid_auto_rows": null,
            "grid_column": null,
            "grid_gap": null,
            "grid_row": null,
            "grid_template_areas": null,
            "grid_template_columns": null,
            "grid_template_rows": null,
            "height": null,
            "justify_content": null,
            "justify_items": null,
            "left": null,
            "margin": null,
            "max_height": null,
            "max_width": null,
            "min_height": null,
            "min_width": null,
            "object_fit": null,
            "object_position": null,
            "order": null,
            "overflow": null,
            "overflow_x": null,
            "overflow_y": null,
            "padding": null,
            "right": null,
            "top": null,
            "visibility": null,
            "width": null
          }
        },
        "a91287112fff4f0aa4762a59b62c8413": {
          "model_module": "@jupyter-widgets/controls",
          "model_name": "DescriptionStyleModel",
          "model_module_version": "1.5.0",
          "state": {
            "_model_module": "@jupyter-widgets/controls",
            "_model_module_version": "1.5.0",
            "_model_name": "DescriptionStyleModel",
            "_view_count": null,
            "_view_module": "@jupyter-widgets/base",
            "_view_module_version": "1.2.0",
            "_view_name": "StyleView",
            "description_width": ""
          }
        }
      }
    }
  },
  "nbformat": 4,
  "nbformat_minor": 5
}