{
  "nbformat": 4,
  "nbformat_minor": 0,
  "metadata": {
    "colab": {
      "provenance": []
    },
    "kernelspec": {
      "name": "python3",
      "display_name": "Python 3"
    },
    "language_info": {
      "name": "python"
    }
  },
  "cells": [
    {
      "cell_type": "code",
      "execution_count": 5,
      "metadata": {
        "id": "lMXRXBMk5HHr"
      },
      "outputs": [],
      "source": [
        "import torch"
      ]
    },
    {
      "cell_type": "markdown",
      "source": [
        "#**Tensor Initialization**"
      ],
      "metadata": {
        "id": "W_tzgDk_96oD"
      }
    },
    {
      "cell_type": "code",
      "source": [
        "\n",
        "device = \"cuda\" if torch.cuda.is_available() else \"cpu\"\n",
        "\n",
        "torch_tensor = torch.tensor([[1,2,3],[4,5,6]], dtype = torch.float32, device = device, requires_grad = True)\n",
        "print(torch_tensor)"
      ],
      "metadata": {
        "colab": {
          "base_uri": "https://localhost:8080/"
        },
        "id": "D7NlkG705OfM",
        "outputId": "2a19c41b-a201-437e-fe17-3d09d0fa3065"
      },
      "execution_count": null,
      "outputs": [
        {
          "output_type": "stream",
          "name": "stdout",
          "text": [
            "tensor([[1., 2., 3.],\n",
            "        [4., 5., 6.]], requires_grad=True)\n"
          ]
        }
      ]
    },
    {
      "cell_type": "code",
      "source": [
        "X1 = torch.empty((2,2)),\n",
        "print(\"type of X1 is:\",X1)\n",
        "\n",
        "X2 = torch.rand((2,2))\n",
        "print(\"type of X2 is:\",X2)\n",
        "\n",
        "X3 = torch.empty((2,2)).uniform_(0,1)\n",
        "print(\"type of X3 is:\",X3)\n",
        "\n",
        "X4 = torch.ones((2,2))\n",
        "print(\"type of X4 is:\",X4)\n",
        "\n",
        "X5 = torch.zeros((2,2))\n",
        "print(\"type of X5 is:\",X5)\n",
        "\n",
        "X6 = torch.eye(2,2)\n",
        "print(\"type of X6 is:\",X6)\n",
        "\n",
        "X7 = torch.diag(torch.ones((2)))\n",
        "print(\"type of X7 is:\",X7)\n",
        "\n",
        "X8 = torch.arange(start=0,end=5, step=1)\n",
        "print(\"type of X8 is:\",X8)\n",
        "\n",
        "X9 = torch.linspace(start=0.1, end=1, steps=10)\n",
        "print(\"type of X9 is:\",X9)"
      ],
      "metadata": {
        "colab": {
          "base_uri": "https://localhost:8080/"
        },
        "id": "7JJBvdTG6UOx",
        "outputId": "f4a4145c-1fbe-4ba7-b67a-44f30b98bbd5"
      },
      "execution_count": null,
      "outputs": [
        {
          "output_type": "stream",
          "name": "stdout",
          "text": [
            "type of X1 is: (tensor([[1.2911e+09, 3.0914e-41],\n",
            "        [1.2964e+09, 3.0914e-41]]),)\n",
            "type of X2 is: tensor([[0.9608, 0.8533],\n",
            "        [0.2109, 0.1900]])\n",
            "type of X3 is: tensor([[0.3165, 0.1189],\n",
            "        [0.4185, 0.7467]])\n",
            "type of X4 is: tensor([[1., 1.],\n",
            "        [1., 1.]])\n",
            "type of X5 is: tensor([[0., 0.],\n",
            "        [0., 0.]])\n",
            "type of X6 is: tensor([[1., 0.],\n",
            "        [0., 1.]])\n",
            "type of X7 is: tensor([[1., 0.],\n",
            "        [0., 1.]])\n",
            "type of X8 is: tensor([0, 1, 2, 3, 4])\n",
            "type of X9 is: tensor([0.1000, 0.2000, 0.3000, 0.4000, 0.5000, 0.6000, 0.7000, 0.8000, 0.9000,\n",
            "        1.0000])\n"
          ]
        }
      ]
    },
    {
      "cell_type": "code",
      "source": [
        "X1 = torch.empty(5,5) # dtype = int-32\n",
        "print(\"type of X1 is:\", X1.dtype)\n",
        "\n",
        "X2 = X1.bool()            # Convert into binary form\n",
        "print(\"type of X2 is:\",X2.dtype)\n",
        "\n",
        "X3 = X1.short()           # Convert into dtype int-16\n",
        "print(\"type of X3 is:\",X3.dtype)\n",
        "\n",
        "X4 = X1.long()            # Convert into dtype int-64\n",
        "print(\"type of X4 is:\",X4.dtype)\n",
        "\n",
        "X5 = X1.half()            # Convert into dtype float-16\n",
        "print(\"type of X5 is:\",X5.dtype)\n",
        "\n",
        "X6 = X1.float()           # Convert into dtype float-32\n",
        "print(\"type of X6 is:\",X6.dtype)\n",
        "\n",
        "X7 = X1.double()          # Convert into dtype float-64\n",
        "print(\"type of X7 is:\",X7.dtype)"
      ],
      "metadata": {
        "colab": {
          "base_uri": "https://localhost:8080/"
        },
        "id": "MVF4JgNw7oKY",
        "outputId": "da5ef86f-aa33-40c1-8ec8-e7d8e47898d5"
      },
      "execution_count": null,
      "outputs": [
        {
          "output_type": "stream",
          "name": "stdout",
          "text": [
            "type of X1 is: torch.float32\n",
            "type of X2 is: torch.bool\n",
            "type of X3 is: torch.int16\n",
            "type of X4 is: torch.int64\n",
            "type of X5 is: torch.float16\n",
            "type of X6 is: torch.float32\n",
            "type of X7 is: torch.float64\n"
          ]
        }
      ]
    },
    {
      "cell_type": "markdown",
      "source": [
        "# **Tensor Maths**"
      ],
      "metadata": {
        "id": "H_y2ky90CvXm"
      }
    },
    {
      "cell_type": "code",
      "source": [
        "X1 = torch.tensor([1,2,3])\n",
        "X2 = torch.tensor([4,5,6])\n",
        "\n",
        "#Addition:\n",
        "Z = X1 + X2\n",
        "Z = torch.add(X1, X2)\n",
        "print(\"Addition is:\",Z)\n",
        "\n",
        "#Inplace operation:\n",
        "X2 += X1\n",
        "print(\"Addition inplace is:\", X2)\n",
        "\n",
        "X1 = torch.tensor([1,2,3])\n",
        "X2 = torch.tensor([4,5,6])\n",
        "X2 = X2.add(X1)\n",
        "print(\"Addition inplace is:\", X2)\n",
        "\n",
        "#Subraction:\n",
        "Z = X1 - X2\n",
        "print(\"The subraction is:\",Z)\n",
        "\n",
        "#Division:\n",
        "Z = torch.true_divide( X1, X2)\n",
        "print(\"The division is:\",Z)\n",
        "\n",
        "#Exponential:\n",
        "Z = X1.pow(2)\n",
        "Z = X1 ** 2\n",
        "print(Z)\n"
      ],
      "metadata": {
        "colab": {
          "base_uri": "https://localhost:8080/"
        },
        "id": "LymBa8uNCrvM",
        "outputId": "382e8109-f649-473c-d32b-f6580bb341d9"
      },
      "execution_count": null,
      "outputs": [
        {
          "output_type": "stream",
          "name": "stdout",
          "text": [
            "Addition is: tensor([5, 7, 9])\n",
            "Addition inplace is: tensor([5, 7, 9])\n",
            "Addition inplace is: tensor([5, 7, 9])\n",
            "The subraction is: tensor([-4, -5, -6])\n",
            "The division is: tensor([0.2000, 0.2857, 0.3333])\n",
            "tensor([1, 4, 9])\n"
          ]
        }
      ]
    },
    {
      "cell_type": "code",
      "source": [
        "X1 = torch.tensor([[1,2,3],[1,2,3]])\n",
        "X2 = torch.tensor([[1,2],[1,2],[1,2]])\n",
        "\n",
        "#Metrix Multiplication:\n",
        "Z = torch.mm(X1, X2)\n",
        "print(\"The product is:\",Z)\n",
        "Z = X1.mm(X2)\n",
        "print(\"The product is:\",Z)\n",
        "\n",
        "#Element-wise Multiplication:\n",
        "X1 = torch.tensor([1,2,3])\n",
        "X2 = torch.tensor([1,2,3])\n",
        "Z = X1 * X2\n",
        "print(\"The element-wise product is:\", Z)\n",
        "\n",
        "#Dot product:\n",
        "Z = torch.dot(X1, X2)\n",
        "print(\"The dot product is:\",Z)\n",
        "\n",
        "#Batch Metrix Multiplication:\n",
        "batch = 2\n",
        "a = 3\n",
        "b = 5\n",
        "c = 4\n",
        "X1 = torch.rand((batch, a, b))\n",
        "X2 = torch.rand((batch, b, c))\n",
        "Z = torch.bmm(X1,X2)\n",
        "print(\"The product os batch multiplication is:\",Z.shape)"
      ],
      "metadata": {
        "colab": {
          "base_uri": "https://localhost:8080/"
        },
        "id": "jC5saPn1Epcq",
        "outputId": "d985b108-5370-4180-b943-318627902dde"
      },
      "execution_count": null,
      "outputs": [
        {
          "output_type": "stream",
          "name": "stdout",
          "text": [
            "The product is: tensor([[ 6, 12],\n",
            "        [ 6, 12]])\n",
            "The product is: tensor([[ 6, 12],\n",
            "        [ 6, 12]])\n",
            "The element-wise product is: tensor([1, 4, 9])\n",
            "The dot product is: tensor(14)\n",
            "The product os batch multiplication is: torch.Size([2, 3, 4])\n"
          ]
        }
      ]
    },
    {
      "cell_type": "code",
      "source": [
        "X1 = torch.tensor([1,2,3])\n",
        "X2 = torch.tensor([4,5,6])\n",
        "indices, values = torch.max(X1, dim=0)\n",
        "print(\"The indice and value is:\", (indices, values))\n",
        "indices = torch.argmax(X1, dim=0)\n",
        "print(\"The indice is:\", indices)"
      ],
      "metadata": {
        "colab": {
          "base_uri": "https://localhost:8080/"
        },
        "id": "qNE6VJ8gHWMs",
        "outputId": "e3fee2a9-ca5a-4f2e-dc1b-bc1ae5be959c"
      },
      "execution_count": null,
      "outputs": [
        {
          "output_type": "stream",
          "name": "stdout",
          "text": [
            "The indice and value is: (tensor(3), tensor(2))\n",
            "The indice is: tensor(2)\n"
          ]
        }
      ]
    },
    {
      "cell_type": "markdown",
      "source": [
        "## **Tensor Indexing**"
      ],
      "metadata": {
        "id": "bejMwu6jtjFT"
      }
    },
    {
      "cell_type": "code",
      "source": [
        "batch_size = 2\n",
        "features = 5\n",
        "x = torch.rand(batch_size, features)\n",
        "z = x[0].shape     # Get the shape of first tensor\n",
        "print(z)\n",
        "z = x[:,0].shape   # Get the shape of all tensors at the first dimension\n",
        "print(z)\n",
        "\n",
        "#Conditional Formatting:\n",
        "Z = torch.arange(10)\n",
        "Z1 = Z[(Z>2) | (Z<8)]     # Get the elements greater than 2 and less than 8\n",
        "print(Z1)\n",
        "Z2 = Z[Z.remainder(2)==0] # Get the even numbered elements\n",
        "print(Z2)\n",
        "Z3 = torch.where(Z2>5, Z2, Z2*2)\n",
        "print(Z3)"
      ],
      "metadata": {
        "colab": {
          "base_uri": "https://localhost:8080/"
        },
        "id": "CsIHfOolttAu",
        "outputId": "a828ed16-ad41-4dde-d3c3-77256ed03eb5"
      },
      "execution_count": 7,
      "outputs": [
        {
          "output_type": "stream",
          "name": "stdout",
          "text": [
            "torch.Size([5])\n",
            "torch.Size([2])\n",
            "tensor([0, 1, 2, 3, 4, 5, 6, 7, 8, 9])\n",
            "tensor([0, 2, 4, 6, 8])\n",
            "tensor([0, 4, 8, 6, 8])\n"
          ]
        }
      ]
    },
    {
      "cell_type": "markdown",
      "source": [
        "## **Tensor Reshaping**"
      ],
      "metadata": {
        "id": "3td29iSzurMd"
      }
    },
    {
      "cell_type": "code",
      "source": [
        "X = torch.tensor([1,2,3,4])\n",
        "Z = X.view(2,2)    # When X is Contiguous\n",
        "print(Z)\n",
        "Z = X.reshape(2,2) # Idependent of Contiguous nature of X\n",
        "print(Z)"
      ],
      "metadata": {
        "colab": {
          "base_uri": "https://localhost:8080/",
          "height": 110
        },
        "id": "jt9cR8Rxu2r6",
        "outputId": "1b6ec1fa-fc49-4895-f290-832c352b51f4"
      },
      "execution_count": 8,
      "outputs": [
        {
          "output_type": "error",
          "ename": "SyntaxError",
          "evalue": "invalid syntax (<ipython-input-8-82232c4e4378>, line 4)",
          "traceback": [
            "\u001b[0;36m  File \u001b[0;32m\"<ipython-input-8-82232c4e4378>\"\u001b[0;36m, line \u001b[0;32m4\u001b[0m\n\u001b[0;31m    Concatenation: X1 = torch.rand([2,4]), X2 = torch.rand([2,3])\u001b[0m\n\u001b[0m                                              ^\u001b[0m\n\u001b[0;31mSyntaxError\u001b[0m\u001b[0;31m:\u001b[0m invalid syntax\n"
          ]
        }
      ]
    },
    {
      "cell_type": "code",
      "source": [
        "#Concatenation:\n",
        "X1 = torch.rand([2,4])\n",
        "X2 = torch.rand([2,4])\n",
        "Z1 = torch.cat((X1, X2), dim=0)\n",
        "print(Z1)\n",
        "Z2 = torch.cat((X1, X2), dim=1)\n",
        "print(Z2)\n",
        "T = torch.tensor([1,2,3])\n",
        "print(T.shape)\n",
        "T = T.view(1, 3)\n",
        "T = T.permute((1,0))\n",
        "print(T.shape)\n",
        "T = T.unsqueeze(0)\n",
        "print(T.shape)"
      ],
      "metadata": {
        "colab": {
          "base_uri": "https://localhost:8080/"
        },
        "id": "CTUJpB71xx4X",
        "outputId": "ec98da09-704a-410b-a24c-b482d43af38e"
      },
      "execution_count": 19,
      "outputs": [
        {
          "output_type": "stream",
          "name": "stdout",
          "text": [
            "tensor([[0.3916, 0.5857, 0.0410, 0.6214],\n",
            "        [0.8613, 0.4667, 0.3718, 0.6619],\n",
            "        [0.2342, 0.4413, 0.3764, 0.6481],\n",
            "        [0.4940, 0.1315, 0.9211, 0.3626]])\n",
            "tensor([[0.3916, 0.5857, 0.0410, 0.6214, 0.2342, 0.4413, 0.3764, 0.6481],\n",
            "        [0.8613, 0.4667, 0.3718, 0.6619, 0.4940, 0.1315, 0.9211, 0.3626]])\n",
            "torch.Size([3])\n",
            "torch.Size([3, 1])\n",
            "torch.Size([1, 3, 1])\n"
          ]
        }
      ]
    }
  ]
}